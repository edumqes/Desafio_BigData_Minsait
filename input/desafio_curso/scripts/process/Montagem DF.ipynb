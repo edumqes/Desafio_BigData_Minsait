{
 "cells": [
  {
   "cell_type": "code",
   "execution_count": 1,
   "metadata": {},
   "outputs": [],
   "source": [
    "from pyspark.sql import SparkSession, dataframe\n",
    "from pyspark.sql.types import StructType, StructField\n",
    "from pyspark.sql.types import DoubleType, IntegerType, StringType\n",
    "from pyspark.sql import HiveContext\n",
    "from pyspark.sql.functions import *\n",
    "from pyspark.sql import functions as f\n",
    "import os\n",
    "import re"
   ]
  },
  {
   "cell_type": "code",
   "execution_count": 2,
   "metadata": {},
   "outputs": [],
   "source": [
    "spark = SparkSession.builder.master(\"local[*]\")\\\n",
    "    .enableHiveSupport()\\\n",
    "    .getOrCreate()"
   ]
  },
  {
   "cell_type": "code",
   "execution_count": 3,
   "metadata": {},
   "outputs": [],
   "source": [
    "df_regiao = spark.sql(\"select * from desafio_curso.tbl_regiao\")"
   ]
  },
  {
   "cell_type": "code",
   "execution_count": 4,
   "metadata": {},
   "outputs": [
    {
     "name": "stdout",
     "output_type": "stream",
     "text": [
      "+-----------+-------------+--------+\n",
      "|region_code|  region_name| dt_foto|\n",
      "+-----------+-------------+--------+\n",
      "|          0|       Canada|20230624|\n",
      "|          1|      Western|20230624|\n",
      "|          2|     Southern|20230624|\n",
      "|          3|    Northeast|20230624|\n",
      "|          4|      Central|20230624|\n",
      "|          5|International|20230624|\n",
      "+-----------+-------------+--------+\n",
      "\n"
     ]
    }
   ],
   "source": [
    "df_regiao.show()"
   ]
  },
  {
   "cell_type": "code",
   "execution_count": 5,
   "metadata": {},
   "outputs": [],
   "source": [
    "df_divisao = spark.sql(\"select * from desafio_curso.tbl_divisao\")"
   ]
  },
  {
   "cell_type": "code",
   "execution_count": 6,
   "metadata": {},
   "outputs": [
    {
     "name": "stdout",
     "output_type": "stream",
     "text": [
      "+--------+-------------+--------+\n",
      "|division|division_name| dt_foto|\n",
      "+--------+-------------+--------+\n",
      "|       1|International|20230624|\n",
      "|       2|     Domestic|20230624|\n",
      "+--------+-------------+--------+\n",
      "\n"
     ]
    }
   ],
   "source": [
    "df_divisao.show()"
   ]
  },
  {
   "cell_type": "code",
   "execution_count": 7,
   "metadata": {},
   "outputs": [],
   "source": [
    "#Campos com espaço \"Não Informado\"\n",
    "query_clientes = '''\n",
    "select address_number,business_family,business_unit,customer,customerkey,customer_type,division,\n",
    "case when length(trim(line_of_business)) = 0 then 'Não Informado' else line_of_business end as line_of_business,\n",
    "phone,region_code,regional_sales_mgr,search_type,dt_foto\n",
    "from desafio_curso.tbl_clientes'''\n",
    "\n",
    "df_clientes = spark.sql(query_clientes)"
   ]
  },
  {
   "cell_type": "code",
   "execution_count": 8,
   "metadata": {},
   "outputs": [
    {
     "name": "stdout",
     "output_type": "stream",
     "text": [
      "+--------------+---------------+-------------+--------------------+-----------+-------------+--------+----------------+------------+-----------+------------------+-----------+--------+\n",
      "|address_number|business_family|business_unit|            customer|customerkey|customer_type|division|line_of_business|       phone|region_code|regional_sales_mgr|search_type| dt_foto|\n",
      "+--------------+---------------+-------------+--------------------+-----------+-------------+--------+----------------+------------+-----------+------------------+-----------+--------+\n",
      "|      10000000|             R3|            1|    City Supermarket|   10000000|           G2|       2|   Não Informado|816-455-8733|          4|               S16|          C|20230624|\n",
      "|      10000453|             R3|            1|       A Supermarket|   10000453|           G1|       1|   Não Informado|816-455-8733|          5|               S19|          C|20230624|\n",
      "|      10000455|             R3|            1|Caribian Supermarket|   10000455|           G2|       2|   Não Informado|816-455-8733|          1|               S16|          C|20230624|\n",
      "|      10000456|             R1|            1|            A&B Shop|   10000456|           G3|       1|   Não Informado|816-455-8733|          0|                S2|          C|20230624|\n",
      "|      10000457|             O2|            1|            A&G Shop|   10000457|           G1|       1|   Não Informado|816-455-8733|          5|                S1|          C|20230624|\n",
      "|      10000458|             R3|            1|          A&R Market|   10000458|           G2|       2|   Não Informado|816-455-8733|          4|                S9|          C|20230624|\n",
      "|      10000460|             R3|            1|        Meals Market|   10000460|           G2|       2|   Não Informado|816-455-8733|          2|               S16|          C|20230624|\n",
      "|      10000461|             R1|            1|            A1 Store|   10000461|           G3|       1|   Não Informado|816-455-8733|          0|                S2|          C|20230624|\n",
      "|      10000462|             R3|            1|            a2i Shop|   10000462|           G2|       2|   Não Informado|816-455-8733|          4|                S1|          C|20230624|\n",
      "|      10000466|             R3|            1|           A2Z Store|   10000466|           G2|       2|   Não Informado|816-455-8733|          1|               S16|          C|20230624|\n",
      "|      10000469|             R3|            1|   A-2-Z Supermarket|   10000469|           G3|       1|   Não Informado|816-455-8733|          0|                S5|          C|20230624|\n",
      "|      10000471|             R3|            1|         Aadast Shop|   10000471|           G1|       1|              M1|816-455-8733|          5|               S19|          C|20230624|\n",
      "|      10000472|             R3|            1|         Aaron Store|   10000472|           G2|       2|   Não Informado|816-455-8733|          1|                S4|          C|20230624|\n",
      "|      10000473|             R3|            1|   Aaron Supermarket|   10000473|           G2|       2|   Não Informado|816-455-8733|          1|               S16|          C|20230624|\n",
      "|      10000474|             R2|            1|       A-ARVIN Store|   10000474|           G2|       2|   Não Informado|816-455-8733|          4|                S9|          C|20230624|\n",
      "|      10000475|             R3|            1|      AA-Wizard Shop|   10000475|           G2|       2|   Não Informado|816-455-8733|          2|               S16|          C|20230624|\n",
      "|      10000478|             R3|            1|       Abacus Market|   10000478|           G2|       2|   Não Informado|816-455-8733|          2|               S16|          C|20230624|\n",
      "|      10000480|             R2|            1|     Abbotsbury Shop|   10000480|           G2|       2|   Não Informado|816-455-8733|          1|                S5|          C|20230624|\n",
      "|      10000481|             R2|            1|         Abbott Shop|   10000481|           G2|       2|   Não Informado|816-455-8733|          4|                S5|          C|20230624|\n",
      "|      10000486|             R3|            1|       Aberdeen Shop|   10000486|           G2|       1|   Não Informado|816-455-8733|          5|               S14|          C|20230624|\n",
      "+--------------+---------------+-------------+--------------------+-----------+-------------+--------+----------------+------------+-----------+------------------+-----------+--------+\n",
      "only showing top 20 rows\n",
      "\n"
     ]
    }
   ],
   "source": [
    "df_clientes.show()"
   ]
  },
  {
   "cell_type": "code",
   "execution_count": 9,
   "metadata": {},
   "outputs": [],
   "source": [
    "#Campos com espaço \"Não Informado\"\n",
    "query_endereco = '''\n",
    "select address_number,\n",
    "case when length(trim(city)) = 0 then 'Não Informado' else city end as city,country,\n",
    "case when length(trim(customer_address_1)) = 0 then 'Não Informado' else customer_address_1 end as customer_address_1,\n",
    "case when length(trim(customer_address_2)) = 0 then 'Não Informado' else customer_address_2 end as customer_address_2,\n",
    "case when length(trim(customer_address_3)) = 0 then 'Não Informado' else customer_address_3 end as customer_address_3,\n",
    "case when length(trim(customer_address_4)) = 0 then 'Não Informado' else customer_address_4 end as customer_address_4,\n",
    "case when length(trim(state)) = 0 then 'Não Informado' else state end as state,\n",
    "case when length(trim(zip_code)) = 0 then 'Não Informado' else zip_code end as zip_code,dt_foto\n",
    "from desafio_curso.tbl_endereco'''\n",
    "\n",
    "df_endereco = spark.sql(query_endereco)"
   ]
  },
  {
   "cell_type": "code",
   "execution_count": 10,
   "metadata": {},
   "outputs": [
    {
     "name": "stdout",
     "output_type": "stream",
     "text": [
      "+--------------+----------------+-------+--------------------+--------------------+------------------+------------------+-------------+-------------+--------+\n",
      "|address_number|            city|country|  customer_address_1|  customer_address_2|customer_address_3|customer_address_4|        state|     zip_code| dt_foto|\n",
      "+--------------+----------------+-------+--------------------+--------------------+------------------+------------------+-------------+-------------+--------+\n",
      "|      10000000|           Akron|     US|         PO Box 6258|       Não Informado|     Não Informado|     Não Informado|           OH|        44312|20230624|\n",
      "|      10000453|   Não Informado|     UK|       Não Informado|       Não Informado|     Não Informado|     Não Informado|Não Informado|Não Informado|20230624|\n",
      "|      10000455|Huntington Beach|     US|   7392 Count Circle|       Não Informado|     Não Informado|     Não Informado|           CA|        92647|20230624|\n",
      "|      10000456|        Edmonton|     CA|    8151 Wagner Road|       Não Informado|     Não Informado|     Não Informado|           AB|      T6E 4N6|20230624|\n",
      "|      10000458|         Saginaw|     US|          PO Box 840|       Não Informado|     Não Informado|     Não Informado|           MI|        48606|20230624|\n",
      "|      10000460|  Goodlettsville|     US|709 Rivergate Par...|       Não Informado|     Não Informado|     Não Informado|           TN|        37072|20230624|\n",
      "|      10000461|    Boucherville|     CA|     1391 Gay Lussac|       Não Informado|     Não Informado|     Não Informado|           QU|      J4B 7K1|20230624|\n",
      "|      10000462|       Hazelwood|     US|6311 North Lindbe...|       Não Informado|     Não Informado|     Não Informado|           MO|        63042|20230624|\n",
      "|      10000466| North Highlands|     US|3213 Orange Grove...|       Não Informado|     Não Informado|     Não Informado|           CA|        95660|20230624|\n",
      "|      10000469|        Montreal|     CA|Attention:  Accou...|7025 Ontario Stre...|     Não Informado|     Não Informado|           QU|      H1N 2B3|20230624|\n",
      "|      10000471|          Jeddah|     AU|    Al Thalia Street|        PO Box 11605|     Não Informado|     Não Informado|Não Informado|        11443|20230624|\n",
      "|      10000472|        Van Nuys|     US| 8000 Haskell Avenue|       Não Informado|     Não Informado|     Não Informado|           CA|        91406|20230624|\n",
      "|      10000473|  Rancho Cordova|     US|3290 Monier Circl...|       Não Informado|     Não Informado|     Não Informado|           CA|        95742|20230624|\n",
      "|      10000474|      Des Moines|     US|         PO Box 3265|       Não Informado|     Não Informado|     Não Informado|           IA|        50316|20230624|\n",
      "|      10000475|       Charlotte|     US| 5745 N Tryon Street|       Não Informado|     Não Informado|     Não Informado|           NC|        28213|20230624|\n",
      "|      10000478|     Little Rock|     US|8120 E Doyle Spri...|       Não Informado|     Não Informado|     Não Informado|           AR|        72209|20230624|\n",
      "|      10000480|         Phoenix|     US|Attention: Accoun...|        PO Box 21502|     Não Informado|     Não Informado|           AZ|   85036-1502|20230624|\n",
      "|      10000481|         Chicago|     US|            Box 5516|       Não Informado|     Não Informado|     Não Informado|           IL|        60680|20230624|\n",
      "|      10000601|       Creedmoor|     US|  1550 Aereli Avenue|       Não Informado|     Não Informado|     Não Informado|           NC|        27522|20230624|\n",
      "|      10002220|   Prince George|     CA|1594 Nicholson St...|       Não Informado|     Não Informado|     Não Informado|           BC|      V2N 1V6|20230624|\n",
      "+--------------+----------------+-------+--------------------+--------------------+------------------+------------------+-------------+-------------+--------+\n",
      "only showing top 20 rows\n",
      "\n"
     ]
    }
   ],
   "source": [
    "df_endereco.show()"
   ]
  },
  {
   "cell_type": "code",
   "execution_count": 11,
   "metadata": {},
   "outputs": [],
   "source": [
    "query_vendas = '''\n",
    "select actual_delivery_date,customerkey,datekey,\n",
    "nvl(replace(discount_amount,',','.'),0) as discount_amount,\n",
    "invoice_date,invoice_number,\n",
    "nvl(item_class,'Não Informado') as item_class,\n",
    "nvl(item_number,0) as item_number,\n",
    "item,line_number,\n",
    "replace(list_price,',','.') as list_price,\n",
    "order_number,promise_delivery_date,\n",
    "replace(sales_amount,',','.') as sales_amount,\n",
    "replace(sales_amount_based_on_list_price,',','.') as sales_amount_based_on_list_price,\n",
    "replace(sales_cost_amount,',','.') as sales_cost_amount,\n",
    "replace(sales_margin_amount,',','.') as sales_margin_amount,\n",
    "nvl(replace(sales_price,',','.'),0) as sales_price,\n",
    "sales_quantity,sales_rep,u_m\n",
    "from desafio_curso.tbl_vendas'''\n",
    "\n",
    "df_vendas = spark.sql(query_vendas)"
   ]
  },
  {
   "cell_type": "code",
   "execution_count": 12,
   "metadata": {},
   "outputs": [
    {
     "name": "stdout",
     "output_type": "stream",
     "text": [
      "+--------------------+-----------+----------+---------------+------------+--------------+-------------+-----------+--------------------+-----------+----------+------------+---------------------+------------+--------------------------------+-----------------+-------------------+-----------+--------------+---------+---+\n",
      "|actual_delivery_date|customerkey|   datekey|discount_amount|invoice_date|invoice_number|   item_class|item_number|                item|line_number|list_price|order_number|promise_delivery_date|sales_amount|sales_amount_based_on_list_price|sales_cost_amount|sales_margin_amount|sales_price|sales_quantity|sales_rep|u_m|\n",
      "+--------------------+-----------+----------+---------------+------------+--------------+-------------+-----------+--------------------+-----------+----------+------------+---------------------+------------+--------------------------------+-----------------+-------------------+-----------+--------------+---------+---+\n",
      "|          28/04/2019|   10000481|28/04/2018|        -237.91|  30/04/2018|        100012|Não Informado|          0|    Urban Large Eggs|       2000|         0|      200015|           28/04/2019|      237.91|                               0|                0|             237.91|     237.91|             1|      184| EA|\n",
      "|          12/07/2019|   10002220|12/07/2018|         368.79|  14/07/2018|        100233|          P01|      20910|  Moms Sliced Turkey|       1000|    824.96|      200245|           12/07/2019|      456.17|                          824.96|                0|             456.17|     456.17|             1|      127| EA|\n",
      "|          14/10/2019|   10002220|15/10/2018|         109.73|  17/10/2018|        116165|          P01|      38076|Cutting Edge Foot...|       1000|    548.66|      213157|           14/10/2019|      438.93|                          548.66|                0|             438.93|     438.93|             1|      127| EA|\n",
      "|          01/06/2019|   10002489|01/06/2018|        -211.75|  03/06/2018|        100096|Não Informado|          0|            Kiwi Lox|       1000|         0|      200107|           01/06/2019|      211.75|                               0|                0|             211.75|     211.75|             1|      160| EA|\n",
      "|          26/05/2019|   10004516|25/05/2018|       96627.94|  27/05/2018|        103341|          P01|      60776|High Top Sweet Onion|       1000|    408.52|      203785|           26/05/2019|    89248.66|                        185876.6|                0|           89248.66|196.1509011|           455|      124| SE|\n",
      "|          28/05/2019|   10004516|28/05/2018|          -1950|  30/05/2018|        103610|Não Informado|          0|Best Choice Fudge...|       2000|         0|      203785|           28/05/2019|        1950|                               0|                0|               1950|       1950|             1|      124| EA|\n",
      "|          01/09/2019|   10007866|01/09/2018|        371.014|  03/09/2018|        100403|          P01|      20910|  Moms Sliced Turkey|       2000|   795.314|      200436|           01/09/2019|       424.3|                         795.314|                0|              424.3|      424.3|             1|      149| EA|\n",
      "|          16/06/2019|   10009356|16/06/2018|         608.08|  18/06/2018|        105481|          P01|      62550|    Tell Tale Garlic|      29000|       575|      205213|           16/06/2019|      541.92|                            1150|                0|             541.92|     270.96|             2|      103| EA|\n",
      "|          16/06/2019|   10009356|16/06/2018|          424.8|  18/06/2018|        105481|          P01|      60794|    High Top Walnuts|      18000|     51.88|      205213|           16/06/2019|       353.4|                           778.2|                0|              353.4|      23.56|            15|      103| EA|\n",
      "|          16/06/2019|   10009356|16/06/2018|        13492.8|  18/06/2018|        105481|          P01|      36001|Big Time Frozen C...|       9000|    412.03|      205213|           16/06/2019|       11229|                         24721.8|                0|              11229|     187.15|            60|      103| EA|\n",
      "|          16/06/2019|   10009356|16/06/2018|        10481.1|  18/06/2018|        105481|          P01|      38076|Cutting Edge Foot...|      13000|    548.66|      205213|           16/06/2019|        8722|                         19203.1|                0|               8722|      249.2|            35|      103| EA|\n",
      "|          16/06/2019|   10009356|16/06/2018|       404.1465|  18/06/2018|        105481|          P01|      61484|Super Creamy Pean...|      37000|   50.5051|      205213|           16/06/2019|      353.43|                        757.5765|                0|             353.43|     23.562|            15|      103| EA|\n",
      "|          14/09/2019|   10009606|14/09/2018|      1287.3476|  16/09/2018|        100445|          P01|      17801|Better Fancy Cann...|       3000| 1379.7938|      200478|           14/09/2019|     1472.24|                       2759.5876|                0|            1472.24|     736.12|             2|      118| EA|\n",
      "|          14/09/2019|   10009606|14/09/2018|        4764.33|  16/09/2018|        100445|          P01|      48500|Red Spade Low Fat...|       1000|   1134.77|      200478|           14/09/2019|      5448.6|                        10212.93|                0|             5448.6|      605.4|             9|      118| EA|\n",
      "|          04/06/2019|   10009633|08/06/2018|        -526.64|  10/06/2018|        104708|Não Informado|      38631|    Jumbo Large Eggs|       1000|         0|      204575|           04/06/2019|      526.64|                               0|                0|             526.64|     526.64|             1|      127| EA|\n",
      "|          16/08/2019|   10009633|18/08/2018|              0|  20/08/2018|        100379|          P01|      60449|High Top Corn on ...|       1000|    346.53|      200397|           16/08/2019|      346.53|                          346.53|                0|             346.53|     346.53|             1|      127| EA|\n",
      "|          12/11/2019|   10009645|15/11/2018|              0|  17/11/2018|        100684|Não Informado|      61801|Moms Low Fat Bologna|       2000|    258.01|      200733|           12/11/2019|     3096.12|                         3096.12|                0|            3096.12|     258.01|            12|      155| EA|\n",
      "|          12/05/2019|   10009652|12/05/2018|             91|  14/05/2018|        102256|Não Informado|      63113|Landslide Columbi...|       1000|      5.61|      202989|           12/05/2019|      1872.5|                          1963.5|                0|             1872.5|       5.35|           350|      145| EA|\n",
      "|          12/05/2019|   10009652|12/05/2018|           -700|  14/05/2018|        102256|Não Informado|          0|High Top Dried Mu...|       2000|         0|      202989|           12/05/2019|         700|                               0|                0|                700|          2|           350|      145| EA|\n",
      "|          04/11/2019|   10009907|04/11/2018|          786.6|  06/11/2018|        117815|          P01|      38050|Gorilla Chocolate...|       2000|    301.23|      200706|           04/11/2019|      418.32|                         1204.92|                0|             418.32|     104.58|             4|      167| EA|\n",
      "+--------------------+-----------+----------+---------------+------------+--------------+-------------+-----------+--------------------+-----------+----------+------------+---------------------+------------+--------------------------------+-----------------+-------------------+-----------+--------------+---------+---+\n",
      "only showing top 20 rows\n",
      "\n"
     ]
    }
   ],
   "source": [
    "df_vendas.show()"
   ]
  },
  {
   "cell_type": "code",
   "execution_count": 13,
   "metadata": {},
   "outputs": [],
   "source": [
    "df_clientes.createOrReplaceTempView('clientes')\n",
    "df_regiao.createOrReplaceTempView('regiao')\n",
    "df_divisao.createOrReplaceTempView('divisao')\n",
    "df_endereco.createOrReplaceTempView('endereco')\n",
    "df_vendas.createOrReplaceTempView('vendas')"
   ]
  },
  {
   "cell_type": "code",
   "execution_count": 14,
   "metadata": {},
   "outputs": [
    {
     "name": "stdout",
     "output_type": "stream",
     "text": [
      "+------------------+\n",
      "|       total_sales|\n",
      "+------------------+\n",
      "|1.86186769050001E8|\n",
      "+------------------+\n",
      "\n"
     ]
    }
   ],
   "source": [
    "spark.sql(\"select sum(sales_amount) as total_sales from vendas\").show()"
   ]
  },
  {
   "cell_type": "code",
   "execution_count": 35,
   "metadata": {},
   "outputs": [],
   "source": [
    "query_stage = '''\n",
    "select\n",
    "    c.address_number,\n",
    "    c.business_family,\n",
    "    c.business_unit,\n",
    "    c.customer,\n",
    "    c.customerkey,\n",
    "    c.customer_type,\n",
    "    c.division,\n",
    "    c.line_of_business,\n",
    "    c.phone,\n",
    "    c.region_code,\n",
    "    c.regional_sales_mgr,\n",
    "    c.search_type,\n",
    "    d.division_name,\n",
    "    r.region_name,\n",
    "    e.city,\n",
    "    e.country,\n",
    "    e.customer_address_1,\n",
    "    e.customer_address_2,\n",
    "    e.customer_address_3,\n",
    "    e.customer_address_4,\n",
    "    e.state,\n",
    "    e.zip_code,\n",
    "    v.actual_delivery_date,\n",
    "    v.datekey,\n",
    "    v.discount_amount,\n",
    "    v.invoice_date,\n",
    "    v.invoice_number,\n",
    "    v.item_class,\n",
    "    v.item_number,\n",
    "    v.item,\n",
    "    v.line_number,\n",
    "    v.list_price,\n",
    "    v.order_number,\n",
    "    v.promise_delivery_date,\n",
    "    v.sales_amount,\n",
    "    v.sales_amount_based_on_list_price,\n",
    "    v.sales_cost_amount,\n",
    "    v.sales_margin_amount,\n",
    "    v.sales_price,\n",
    "    v.sales_quantity,\n",
    "    v.sales_rep,\n",
    "    v.u_m\n",
    "from vendas v\n",
    "inner join clientes c on c.customerkey = v.customerkey\n",
    "inner join divisao d on c.division = d.division\n",
    "inner join regiao r on c.region_code = r.region_code\n",
    "left join endereco e on c.address_number = e.address_number\n",
    "'''\n",
    "\n",
    "df_stage = spark.sql(query_stage)"
   ]
  },
  {
   "cell_type": "code",
   "execution_count": 37,
   "metadata": {},
   "outputs": [
    {
     "name": "stdout",
     "output_type": "stream",
     "text": [
      "+--------------+---------------+-------------+-----------+-----------+-------------+--------+----------------+------------+-----------+------------------+-----------+-------------+-----------+--------+-------+-------------------+------------------+------------------+------------------+-----+--------+--------------------+----------+---------------+------------+--------------+----------+-----------+--------------------+-----------+----------+------------+---------------------+------------+--------------------------------+-----------------+-------------------+-----------+--------------+---------+---+\n",
      "|address_number|business_family|business_unit|   customer|customerkey|customer_type|division|line_of_business|       phone|region_code|regional_sales_mgr|search_type|division_name|region_name|    city|country| customer_address_1|customer_address_2|customer_address_3|customer_address_4|state|zip_code|actual_delivery_date|   datekey|discount_amount|invoice_date|invoice_number|item_class|item_number|                item|line_number|list_price|order_number|promise_delivery_date|sales_amount|sales_amount_based_on_list_price|sales_cost_amount|sales_margin_amount|sales_price|sales_quantity|sales_rep|u_m|\n",
      "+--------------+---------------+-------------+-----------+-----------+-------------+--------+----------------+------------+-----------+------------------+-----------+-------------+-----------+--------+-------+-------------------+------------------+------------------+------------------+-----+--------+--------------------+----------+---------------+------------+--------------+----------+-----------+--------------------+-----------+----------+------------+---------------------+------------+--------------------------------+-----------------+-------------------+-----------+--------------+---------+---+\n",
      "|      10000472|             R3|            1|Aaron Store|   10000472|           G2|       2|   Não Informado|816-455-8733|          1|                S4|          C|     Domestic|    Western|Van Nuys|     US|8000 Haskell Avenue|     Não Informado|     Não Informado|     Não Informado|   CA|   91406|          19/01/2019|19/01/2018|         363.99|  21/01/2018|        120547|       P01|      61752|Carlson Cheese Sp...|       1000|    803.86|      216973|           19/01/2019|      439.87|                          803.86|           474.05|             -34.18|     439.87|             1|      119| EA|\n",
      "|      10000472|             R3|            1|Aaron Store|   10000472|           G2|       2|   Não Informado|816-455-8733|          1|                S4|          C|     Domestic|    Western|Van Nuys|     US|8000 Haskell Avenue|     Não Informado|     Não Informado|     Não Informado|   CA|   91406|          23/01/2019|23/01/2018|         919.75|  25/01/2018|        121031|       P01|      27550|   Imagine Popsicles|       2000|   1084.61|      217830|           23/01/2019|     1249.47|                         2169.22|           605.31|             644.16|    624.735|             2|      119| EA|\n",
      "|      10000472|             R3|            1|Aaron Store|   10000472|           G2|       2|   Não Informado|816-455-8733|          1|                S4|          C|     Domestic|    Western|Van Nuys|     US|8000 Haskell Avenue|     Não Informado|     Não Informado|     Não Informado|   CA|   91406|          23/01/2019|23/01/2018|         224.79|  25/01/2018|        121031|       P01|      29312|  Discover Spaghetti|       5000|     44.18|      217830|           23/01/2019|      305.37|                          530.16|           158.73|             146.64|    25.4475|            12|      119| EA|\n",
      "|      10000472|             R3|            1|Aaron Store|   10000472|           G2|       2|   Não Informado|816-455-8733|          1|                S4|          C|     Domestic|    Western|Van Nuys|     US|8000 Haskell Avenue|     Não Informado|     Não Informado|     Não Informado|   CA|   91406|          23/01/2019|23/01/2018|         398.38|  25/01/2018|        121031|       P01|      26502|Bravo Large Canne...|       1000|    939.57|      217830|           23/01/2019|      541.19|                          939.57|           273.05|             268.14|     541.19|             1|      119| EA|\n",
      "|      10000472|             R3|            1|Aaron Store|   10000472|           G2|       2|   Não Informado|816-455-8733|          1|                S4|          C|     Domestic|    Western|Van Nuys|     US|8000 Haskell Avenue|     Não Informado|     Não Informado|     Não Informado|   CA|   91406|          23/01/2019|23/01/2018|      1346.6403|  25/01/2018|        121031|       P01|      28500|        Ebony Squash|       3000| 1058.6801|      217830|           23/01/2019|      1829.4|                       3176.0403|           928.93|             900.47|      609.8|             3|      119| EA|\n",
      "+--------------+---------------+-------------+-----------+-----------+-------------+--------+----------------+------------+-----------+------------------+-----------+-------------+-----------+--------+-------+-------------------+------------------+------------------+------------------+-----+--------+--------------------+----------+---------------+------------+--------------+----------+-----------+--------------------+-----------+----------+------------+---------------------+------------+--------------------------------+-----------------+-------------------+-----------+--------------+---------+---+\n",
      "only showing top 5 rows\n",
      "\n"
     ]
    }
   ],
   "source": [
    "df_stage.show(5)"
   ]
  },
  {
   "cell_type": "code",
   "execution_count": 38,
   "metadata": {},
   "outputs": [],
   "source": [
    "df_stage = (df_stage\n",
    "            .withColumn('Ano',f.year(f.to_timestamp('invoice_date','dd/MM/yyyy')))\n",
    "            .withColumn('Mes',f.month(f.to_timestamp('invoice_date','dd/MM/yyyy')))\n",
    "            .withColumn('Dia',f.dayofmonth(f.to_timestamp('invoice_date','dd/MM/yyyy')))\n",
    "            .withColumn('Trimestre',f.quarter(f.to_timestamp('invoice_date','dd/MM/yyyy')))\n",
    "           )"
   ]
  },
  {
   "cell_type": "code",
   "execution_count": 39,
   "metadata": {},
   "outputs": [
    {
     "name": "stdout",
     "output_type": "stream",
     "text": [
      "+--------------+---------------+-------------+-----------+-----------+-------------+--------+----------------+------------+-----------+------------------+-----------+-------------+-----------+--------+-------+-------------------+------------------+------------------+------------------+-----+--------+--------------------+----------+---------------+------------+--------------+----------+-----------+--------------------+-----------+----------+------------+---------------------+------------+--------------------------------+-----------------+-------------------+-----------+--------------+---------+---+----+---+---+---------+\n",
      "|address_number|business_family|business_unit|   customer|customerkey|customer_type|division|line_of_business|       phone|region_code|regional_sales_mgr|search_type|division_name|region_name|    city|country| customer_address_1|customer_address_2|customer_address_3|customer_address_4|state|zip_code|actual_delivery_date|   datekey|discount_amount|invoice_date|invoice_number|item_class|item_number|                item|line_number|list_price|order_number|promise_delivery_date|sales_amount|sales_amount_based_on_list_price|sales_cost_amount|sales_margin_amount|sales_price|sales_quantity|sales_rep|u_m| Ano|Mes|Dia|Trimestre|\n",
      "+--------------+---------------+-------------+-----------+-----------+-------------+--------+----------------+------------+-----------+------------------+-----------+-------------+-----------+--------+-------+-------------------+------------------+------------------+------------------+-----+--------+--------------------+----------+---------------+------------+--------------+----------+-----------+--------------------+-----------+----------+------------+---------------------+------------+--------------------------------+-----------------+-------------------+-----------+--------------+---------+---+----+---+---+---------+\n",
      "|      10000472|             R3|            1|Aaron Store|   10000472|           G2|       2|   Não Informado|816-455-8733|          1|                S4|          C|     Domestic|    Western|Van Nuys|     US|8000 Haskell Avenue|     Não Informado|     Não Informado|     Não Informado|   CA|   91406|          19/01/2019|19/01/2018|         363.99|  21/01/2018|        120547|       P01|      61752|Carlson Cheese Sp...|       1000|    803.86|      216973|           19/01/2019|      439.87|                          803.86|           474.05|             -34.18|     439.87|             1|      119| EA|2018|  1| 21|        1|\n",
      "|      10000472|             R3|            1|Aaron Store|   10000472|           G2|       2|   Não Informado|816-455-8733|          1|                S4|          C|     Domestic|    Western|Van Nuys|     US|8000 Haskell Avenue|     Não Informado|     Não Informado|     Não Informado|   CA|   91406|          23/01/2019|23/01/2018|         919.75|  25/01/2018|        121031|       P01|      27550|   Imagine Popsicles|       2000|   1084.61|      217830|           23/01/2019|     1249.47|                         2169.22|           605.31|             644.16|    624.735|             2|      119| EA|2018|  1| 25|        1|\n",
      "|      10000472|             R3|            1|Aaron Store|   10000472|           G2|       2|   Não Informado|816-455-8733|          1|                S4|          C|     Domestic|    Western|Van Nuys|     US|8000 Haskell Avenue|     Não Informado|     Não Informado|     Não Informado|   CA|   91406|          23/01/2019|23/01/2018|         224.79|  25/01/2018|        121031|       P01|      29312|  Discover Spaghetti|       5000|     44.18|      217830|           23/01/2019|      305.37|                          530.16|           158.73|             146.64|    25.4475|            12|      119| EA|2018|  1| 25|        1|\n",
      "|      10000472|             R3|            1|Aaron Store|   10000472|           G2|       2|   Não Informado|816-455-8733|          1|                S4|          C|     Domestic|    Western|Van Nuys|     US|8000 Haskell Avenue|     Não Informado|     Não Informado|     Não Informado|   CA|   91406|          23/01/2019|23/01/2018|         398.38|  25/01/2018|        121031|       P01|      26502|Bravo Large Canne...|       1000|    939.57|      217830|           23/01/2019|      541.19|                          939.57|           273.05|             268.14|     541.19|             1|      119| EA|2018|  1| 25|        1|\n",
      "|      10000472|             R3|            1|Aaron Store|   10000472|           G2|       2|   Não Informado|816-455-8733|          1|                S4|          C|     Domestic|    Western|Van Nuys|     US|8000 Haskell Avenue|     Não Informado|     Não Informado|     Não Informado|   CA|   91406|          23/01/2019|23/01/2018|      1346.6403|  25/01/2018|        121031|       P01|      28500|        Ebony Squash|       3000| 1058.6801|      217830|           23/01/2019|      1829.4|                       3176.0403|           928.93|             900.47|      609.8|             3|      119| EA|2018|  1| 25|        1|\n",
      "|      10000472|             R3|            1|Aaron Store|   10000472|           G2|       2|   Não Informado|816-455-8733|          1|                S4|          C|     Domestic|    Western|Van Nuys|     US|8000 Haskell Avenue|     Não Informado|     Não Informado|     Não Informado|   CA|   91406|          23/01/2019|23/01/2018|         435.15|  25/01/2018|        121031|       P01|      26370|Bravo Canned Tomatos|       4000|    205.26|      217830|           23/01/2019|      591.15|                          1026.3|           287.69|             303.46|     118.23|             5|      119| EA|2018|  1| 25|        1|\n",
      "|      10000472|             R3|            1|Aaron Store|   10000472|           G2|       2|   Não Informado|816-455-8733|          1|                S4|          C|     Domestic|    Western|Van Nuys|     US|8000 Haskell Avenue|     Não Informado|     Não Informado|     Não Informado|   CA|   91406|          09/02/2019|09/02/2018|         334.45|  11/02/2018|        122466|       P01|      28761|   Ebony Fuji Apples|       1000|    157.76|      218734|           09/02/2019|      454.35|                           788.8|           238.73|             215.62|      90.87|             5|      119| SE|2018|  2| 11|        1|\n",
      "|      10000472|             R3|            1|Aaron Store|   10000472|           G2|       2|   Não Informado|816-455-8733|          1|                S4|          C|     Domestic|    Western|Van Nuys|     US|8000 Haskell Avenue|     Não Informado|     Não Informado|     Não Informado|   CA|   91406|          20/02/2019|20/02/2018|         334.45|  22/02/2018|        123476|       P01|      28761|   Ebony Fuji Apples|       5000|    157.76|      219480|           20/02/2019|      454.35|                           788.8|           238.73|             215.62|      90.87|             5|      119| SE|2018|  2| 22|        1|\n",
      "|      10000472|             R3|            1|Aaron Store|   10000472|           G2|       2|   Não Informado|816-455-8733|          1|                S4|          C|     Domestic|    Western|Van Nuys|     US|8000 Haskell Avenue|     Não Informado|     Não Informado|     Não Informado|   CA|   91406|          20/02/2019|20/02/2018|         253.65|  22/02/2018|        123476|       P01|      25300|   Fast Dried Apples|       1000|    199.41|      219480|           20/02/2019|      344.58|                          598.23|           167.81|             176.77|     114.86|             3|      119| EA|2018|  2| 22|        1|\n",
      "|      10000472|             R3|            1|Aaron Store|   10000472|           G2|       2|   Não Informado|816-455-8733|          1|                S4|          C|     Domestic|    Western|Van Nuys|     US|8000 Haskell Avenue|     Não Informado|     Não Informado|     Não Informado|   CA|   91406|          20/02/2019|20/02/2018|         374.65|  22/02/2018|        123476|       P01|      29312|  Discover Spaghetti|       2000|     44.18|      219480|           20/02/2019|      508.95|                           883.6|           264.56|             244.39|    25.4475|            20|      119| EA|2018|  2| 22|        1|\n",
      "|      10000472|             R3|            1|Aaron Store|   10000472|           G2|       2|   Não Informado|816-455-8733|          1|                S4|          C|     Domestic|    Western|Van Nuys|     US|8000 Haskell Avenue|     Não Informado|     Não Informado|     Não Informado|   CA|   91406|          03/03/2019|03/03/2018|         253.65|  05/03/2018|        124390|       P01|      25300|   Fast Dried Apples|       1000|    199.41|      220087|           03/03/2019|      344.58|                          598.23|           167.81|             176.77|     114.86|             3|      119| EA|2018|  3|  5|        1|\n",
      "|      10000472|             R3|            1|Aaron Store|   10000472|           G2|       2|   Não Informado|816-455-8733|          1|                S4|          C|     Domestic|    Western|Van Nuys|     US|8000 Haskell Avenue|     Não Informado|     Não Informado|     Não Informado|   CA|   91406|          05/03/2019|05/03/2018|         363.99|  07/03/2018|        124591|       P01|      61752|Carlson Cheese Sp...|       1000|    803.86|      220197|           05/03/2019|      439.87|                          803.86|           389.73|              50.14|     439.87|             1|      119| EA|2018|  3|  7|        1|\n",
      "|      10000472|             R3|            1|Aaron Store|   10000472|           G2|       2|   Não Informado|816-455-8733|          1|                S4|          C|     Domestic|    Western|Van Nuys|     US|8000 Haskell Avenue|     Não Informado|     Não Informado|     Não Informado|   CA|   91406|          11/03/2019|11/03/2018|          169.1|  13/03/2018|        125063|       P01|      25300|   Fast Dried Apples|       1000|    199.41|      220544|           11/03/2019|      229.72|                          398.82|           111.87|             117.85|     114.86|             2|      119| EA|2018|  3| 13|        1|\n",
      "|      10000472|             R3|            1|Aaron Store|   10000472|           G2|       2|   Não Informado|816-455-8733|          1|                S4|          C|     Domestic|    Western|Van Nuys|     US|8000 Haskell Avenue|     Não Informado|     Não Informado|     Não Informado|   CA|   91406|          19/03/2019|19/03/2018|         398.38|  21/03/2018|        125808|       P01|      26502|Bravo Large Canne...|       7000|    939.57|      220986|           19/03/2019|      541.19|                          939.57|           266.94|             274.25|     541.19|             1|      119| EA|2018|  3| 21|        1|\n",
      "|      10000472|             R3|            1|Aaron Store|   10000472|           G2|       2|   Não Informado|816-455-8733|          1|                S4|          C|     Domestic|    Western|Van Nuys|     US|8000 Haskell Avenue|     Não Informado|     Não Informado|     Não Informado|   CA|   91406|          19/03/2019|19/03/2018|       448.8801|  21/03/2018|        125808|       P01|      28500|        Ebony Squash|       8000| 1058.6801|      220986|           19/03/2019|       609.8|                       1058.6801|           303.54|             306.26|      609.8|             1|      119| EA|2018|  3| 21|        1|\n",
      "|      10000472|             R3|            1|Aaron Store|   10000472|           G2|       2|   Não Informado|816-455-8733|          1|                S4|          C|     Domestic|    Western|Van Nuys|     US|8000 Haskell Avenue|     Não Informado|     Não Informado|     Não Informado|   CA|   91406|          19/03/2019|19/03/2018|         468.23|  21/03/2018|        125808|       P01|      28761|   Ebony Fuji Apples|       4000|    157.76|      220986|           19/03/2019|      636.09|                         1104.32|           334.22|             301.87|      90.87|             7|      119| SE|2018|  3| 21|        1|\n",
      "|      10000472|             R3|            1|Aaron Store|   10000472|           G2|       2|   Não Informado|816-455-8733|          1|                S4|          C|     Domestic|    Western|Van Nuys|     US|8000 Haskell Avenue|     Não Informado|     Não Informado|     Não Informado|   CA|   91406|          19/03/2019|19/03/2018|         1839.5|  21/03/2018|        125808|       P01|      27550|   Imagine Popsicles|       9000|   1084.61|      220986|           19/03/2019|     2498.94|                         4338.44|          1186.19|            1312.75|    624.735|             4|      119| EA|2018|  3| 21|        1|\n",
      "|      10000472|             R3|            1|Aaron Store|   10000472|           G2|       2|   Não Informado|816-455-8733|          1|                S4|          C|     Domestic|    Western|Van Nuys|     US|8000 Haskell Avenue|     Não Informado|     Não Informado|     Não Informado|   CA|   91406|          19/04/2019|19/04/2018|         363.99|  21/04/2018|        132059|       P01|      61752|Carlson Cheese Sp...|       1000|    803.86|      225677|           19/04/2019|      439.87|                          803.86|           474.05|             -34.18|     439.87|             1|      119| EA|2018|  4| 21|        2|\n",
      "|      10000472|             R3|            1|Aaron Store|   10000472|           G2|       2|   Não Informado|816-455-8733|          1|                S4|          C|     Domestic|    Western|Van Nuys|     US|8000 Haskell Avenue|     Não Informado|     Não Informado|     Não Informado|   CA|   91406|          23/04/2019|23/04/2018|         919.75|  25/04/2018|        132543|       P01|      27550|   Imagine Popsicles|       2000|   1084.61|      226383|           23/04/2019|     1249.47|                         2169.22|           605.31|             644.16|    624.735|             2|      119| EA|2018|  4| 25|        2|\n",
      "|      10000472|             R3|            1|Aaron Store|   10000472|           G2|       2|   Não Informado|816-455-8733|          1|                S4|          C|     Domestic|    Western|Van Nuys|     US|8000 Haskell Avenue|     Não Informado|     Não Informado|     Não Informado|   CA|   91406|          23/04/2019|23/04/2018|         224.79|  25/04/2018|        132543|       P01|      29312|  Discover Spaghetti|       5000|     44.18|      226383|           23/04/2019|      305.37|                          530.16|           158.73|             146.64|    25.4475|            12|      119| EA|2018|  4| 25|        2|\n",
      "+--------------+---------------+-------------+-----------+-----------+-------------+--------+----------------+------------+-----------+------------------+-----------+-------------+-----------+--------+-------+-------------------+------------------+------------------+------------------+-----+--------+--------------------+----------+---------------+------------+--------------+----------+-----------+--------------------+-----------+----------+------------+---------------------+------------+--------------------------------+-----------------+-------------------+-----------+--------------+---------+---+----+---+---+---------+\n",
      "only showing top 20 rows\n",
      "\n"
     ]
    }
   ],
   "source": [
    "df_stage.show()"
   ]
  },
  {
   "cell_type": "code",
   "execution_count": 40,
   "metadata": {},
   "outputs": [],
   "source": [
    "df_stage = df_stage.withColumn(\"DW_LOCALIDADE\", sha2(concat_ws(\"\", df_stage.address_number,df_stage.city,df_stage.country,\n",
    "            df_stage.customer_address_1,df_stage.customer_address_2,df_stage.customer_address_3,df_stage.customer_address_4,\n",
    "            df_stage.state,df_stage.zip_code), 256))\n",
    "df_stage = df_stage.withColumn(\"DW_CLIENTES\", sha2(concat_ws(\"\", df_stage.address_number,df_stage.business_family,\n",
    "            df_stage.business_unit,df_stage.customer,df_stage.customerkey,df_stage.customer_type,df_stage.division,\n",
    "            df_stage.division_name,df_stage.line_of_business,df_stage.phone,df_stage.region_code,df_stage.region_name,                                               \n",
    "            df_stage.regional_sales_mgr,df_stage.search_type), 256))\n",
    "df_stage = df_stage.withColumn(\"DW_TEMPO\", sha2(concat_ws(\"\", df_stage.invoice_date,df_stage.Ano,df_stage.Mes,df_stage.Dia,\n",
    "            df_stage.Trimestre), 256))"
   ]
  },
  {
   "cell_type": "code",
   "execution_count": 64,
   "metadata": {},
   "outputs": [
    {
     "name": "stdout",
     "output_type": "stream",
     "text": [
      "+--------------------+-----------+----------+---------------+------------+--------------+----------+-----------+--------------------+-----------+----------+------------+---------------------+------------+--------------------------------+-----------------+-------------------+-----------+--------------+---------+---+--------------+---------------+-------------+-----------+-------------+--------+----------------+------------+-----------+------------------+-----------+-------------+-----------+--------+-------+-------------------+------------------+------------------+------------------+-----+--------+----+---+---+---------+--------------------+--------------------+--------------------+\n",
      "|actual_delivery_date|customerkey|   datekey|discount_amount|invoice_date|invoice_number|item_class|item_number|                item|line_number|list_price|order_number|promise_delivery_date|sales_amount|sales_amount_based_on_list_price|sales_cost_amount|sales_margin_amount|sales_price|sales_quantity|sales_rep|u_m|address_number|business_family|business_unit|   customer|customer_type|division|line_of_business|       phone|region_code|regional_sales_mgr|search_type|division_name|region_name|    city|country| customer_address_1|customer_address_2|customer_address_3|customer_address_4|state|zip_code| Ano|Mes|Dia|Trimestre|       DW_LOCALIDADE|         DW_CLIENTES|            DW_TEMPO|\n",
      "+--------------------+-----------+----------+---------------+------------+--------------+----------+-----------+--------------------+-----------+----------+------------+---------------------+------------+--------------------------------+-----------------+-------------------+-----------+--------------+---------+---+--------------+---------------+-------------+-----------+-------------+--------+----------------+------------+-----------+------------------+-----------+-------------+-----------+--------+-------+-------------------+------------------+------------------+------------------+-----+--------+----+---+---+---------+--------------------+--------------------+--------------------+\n",
      "|          19/01/2019|   10000472|19/01/2018|         363.99|  21/01/2018|        120547|       P01|      61752|Carlson Cheese Sp...|       1000|    803.86|      216973|           19/01/2019|      439.87|                          803.86|           474.05|             -34.18|     439.87|             1|      119| EA|      10000472|             R3|            1|Aaron Store|           G2|       2|   Não Informado|816-455-8733|          1|                S4|          C|     Domestic|    Western|Van Nuys|     US|8000 Haskell Avenue|     Não Informado|     Não Informado|     Não Informado|   CA|   91406|2018|  1| 21|        1|d955a6c32d75f00a1...|253d4a70cdab91951...|72e2cd68c8343ee0b...|\n",
      "|          23/01/2019|   10000472|23/01/2018|         919.75|  25/01/2018|        121031|       P01|      27550|   Imagine Popsicles|       2000|   1084.61|      217830|           23/01/2019|     1249.47|                         2169.22|           605.31|             644.16|    624.735|             2|      119| EA|      10000472|             R3|            1|Aaron Store|           G2|       2|   Não Informado|816-455-8733|          1|                S4|          C|     Domestic|    Western|Van Nuys|     US|8000 Haskell Avenue|     Não Informado|     Não Informado|     Não Informado|   CA|   91406|2018|  1| 25|        1|d955a6c32d75f00a1...|253d4a70cdab91951...|66f3d2f602a7742ba...|\n",
      "|          23/01/2019|   10000472|23/01/2018|         224.79|  25/01/2018|        121031|       P01|      29312|  Discover Spaghetti|       5000|     44.18|      217830|           23/01/2019|      305.37|                          530.16|           158.73|             146.64|    25.4475|            12|      119| EA|      10000472|             R3|            1|Aaron Store|           G2|       2|   Não Informado|816-455-8733|          1|                S4|          C|     Domestic|    Western|Van Nuys|     US|8000 Haskell Avenue|     Não Informado|     Não Informado|     Não Informado|   CA|   91406|2018|  1| 25|        1|d955a6c32d75f00a1...|253d4a70cdab91951...|66f3d2f602a7742ba...|\n",
      "|          23/01/2019|   10000472|23/01/2018|         398.38|  25/01/2018|        121031|       P01|      26502|Bravo Large Canne...|       1000|    939.57|      217830|           23/01/2019|      541.19|                          939.57|           273.05|             268.14|     541.19|             1|      119| EA|      10000472|             R3|            1|Aaron Store|           G2|       2|   Não Informado|816-455-8733|          1|                S4|          C|     Domestic|    Western|Van Nuys|     US|8000 Haskell Avenue|     Não Informado|     Não Informado|     Não Informado|   CA|   91406|2018|  1| 25|        1|d955a6c32d75f00a1...|253d4a70cdab91951...|66f3d2f602a7742ba...|\n",
      "|          23/01/2019|   10000472|23/01/2018|      1346.6403|  25/01/2018|        121031|       P01|      28500|        Ebony Squash|       3000| 1058.6801|      217830|           23/01/2019|      1829.4|                       3176.0403|           928.93|             900.47|      609.8|             3|      119| EA|      10000472|             R3|            1|Aaron Store|           G2|       2|   Não Informado|816-455-8733|          1|                S4|          C|     Domestic|    Western|Van Nuys|     US|8000 Haskell Avenue|     Não Informado|     Não Informado|     Não Informado|   CA|   91406|2018|  1| 25|        1|d955a6c32d75f00a1...|253d4a70cdab91951...|66f3d2f602a7742ba...|\n",
      "|          23/01/2019|   10000472|23/01/2018|         435.15|  25/01/2018|        121031|       P01|      26370|Bravo Canned Tomatos|       4000|    205.26|      217830|           23/01/2019|      591.15|                          1026.3|           287.69|             303.46|     118.23|             5|      119| EA|      10000472|             R3|            1|Aaron Store|           G2|       2|   Não Informado|816-455-8733|          1|                S4|          C|     Domestic|    Western|Van Nuys|     US|8000 Haskell Avenue|     Não Informado|     Não Informado|     Não Informado|   CA|   91406|2018|  1| 25|        1|d955a6c32d75f00a1...|253d4a70cdab91951...|66f3d2f602a7742ba...|\n",
      "|          09/02/2019|   10000472|09/02/2018|         334.45|  11/02/2018|        122466|       P01|      28761|   Ebony Fuji Apples|       1000|    157.76|      218734|           09/02/2019|      454.35|                           788.8|           238.73|             215.62|      90.87|             5|      119| SE|      10000472|             R3|            1|Aaron Store|           G2|       2|   Não Informado|816-455-8733|          1|                S4|          C|     Domestic|    Western|Van Nuys|     US|8000 Haskell Avenue|     Não Informado|     Não Informado|     Não Informado|   CA|   91406|2018|  2| 11|        1|d955a6c32d75f00a1...|253d4a70cdab91951...|4dbd5ba6ede4b395c...|\n",
      "|          20/02/2019|   10000472|20/02/2018|         334.45|  22/02/2018|        123476|       P01|      28761|   Ebony Fuji Apples|       5000|    157.76|      219480|           20/02/2019|      454.35|                           788.8|           238.73|             215.62|      90.87|             5|      119| SE|      10000472|             R3|            1|Aaron Store|           G2|       2|   Não Informado|816-455-8733|          1|                S4|          C|     Domestic|    Western|Van Nuys|     US|8000 Haskell Avenue|     Não Informado|     Não Informado|     Não Informado|   CA|   91406|2018|  2| 22|        1|d955a6c32d75f00a1...|253d4a70cdab91951...|5423b42ddc0bc9384...|\n",
      "|          20/02/2019|   10000472|20/02/2018|         253.65|  22/02/2018|        123476|       P01|      25300|   Fast Dried Apples|       1000|    199.41|      219480|           20/02/2019|      344.58|                          598.23|           167.81|             176.77|     114.86|             3|      119| EA|      10000472|             R3|            1|Aaron Store|           G2|       2|   Não Informado|816-455-8733|          1|                S4|          C|     Domestic|    Western|Van Nuys|     US|8000 Haskell Avenue|     Não Informado|     Não Informado|     Não Informado|   CA|   91406|2018|  2| 22|        1|d955a6c32d75f00a1...|253d4a70cdab91951...|5423b42ddc0bc9384...|\n",
      "|          20/02/2019|   10000472|20/02/2018|         374.65|  22/02/2018|        123476|       P01|      29312|  Discover Spaghetti|       2000|     44.18|      219480|           20/02/2019|      508.95|                           883.6|           264.56|             244.39|    25.4475|            20|      119| EA|      10000472|             R3|            1|Aaron Store|           G2|       2|   Não Informado|816-455-8733|          1|                S4|          C|     Domestic|    Western|Van Nuys|     US|8000 Haskell Avenue|     Não Informado|     Não Informado|     Não Informado|   CA|   91406|2018|  2| 22|        1|d955a6c32d75f00a1...|253d4a70cdab91951...|5423b42ddc0bc9384...|\n",
      "|          03/03/2019|   10000472|03/03/2018|         253.65|  05/03/2018|        124390|       P01|      25300|   Fast Dried Apples|       1000|    199.41|      220087|           03/03/2019|      344.58|                          598.23|           167.81|             176.77|     114.86|             3|      119| EA|      10000472|             R3|            1|Aaron Store|           G2|       2|   Não Informado|816-455-8733|          1|                S4|          C|     Domestic|    Western|Van Nuys|     US|8000 Haskell Avenue|     Não Informado|     Não Informado|     Não Informado|   CA|   91406|2018|  3|  5|        1|d955a6c32d75f00a1...|253d4a70cdab91951...|687a3453f47eaa33e...|\n",
      "|          05/03/2019|   10000472|05/03/2018|         363.99|  07/03/2018|        124591|       P01|      61752|Carlson Cheese Sp...|       1000|    803.86|      220197|           05/03/2019|      439.87|                          803.86|           389.73|              50.14|     439.87|             1|      119| EA|      10000472|             R3|            1|Aaron Store|           G2|       2|   Não Informado|816-455-8733|          1|                S4|          C|     Domestic|    Western|Van Nuys|     US|8000 Haskell Avenue|     Não Informado|     Não Informado|     Não Informado|   CA|   91406|2018|  3|  7|        1|d955a6c32d75f00a1...|253d4a70cdab91951...|ab3823bf87c2486b7...|\n",
      "|          11/03/2019|   10000472|11/03/2018|          169.1|  13/03/2018|        125063|       P01|      25300|   Fast Dried Apples|       1000|    199.41|      220544|           11/03/2019|      229.72|                          398.82|           111.87|             117.85|     114.86|             2|      119| EA|      10000472|             R3|            1|Aaron Store|           G2|       2|   Não Informado|816-455-8733|          1|                S4|          C|     Domestic|    Western|Van Nuys|     US|8000 Haskell Avenue|     Não Informado|     Não Informado|     Não Informado|   CA|   91406|2018|  3| 13|        1|d955a6c32d75f00a1...|253d4a70cdab91951...|279914a40225c5166...|\n",
      "|          19/03/2019|   10000472|19/03/2018|         398.38|  21/03/2018|        125808|       P01|      26502|Bravo Large Canne...|       7000|    939.57|      220986|           19/03/2019|      541.19|                          939.57|           266.94|             274.25|     541.19|             1|      119| EA|      10000472|             R3|            1|Aaron Store|           G2|       2|   Não Informado|816-455-8733|          1|                S4|          C|     Domestic|    Western|Van Nuys|     US|8000 Haskell Avenue|     Não Informado|     Não Informado|     Não Informado|   CA|   91406|2018|  3| 21|        1|d955a6c32d75f00a1...|253d4a70cdab91951...|15cbd939a83d34c5e...|\n",
      "|          19/03/2019|   10000472|19/03/2018|       448.8801|  21/03/2018|        125808|       P01|      28500|        Ebony Squash|       8000| 1058.6801|      220986|           19/03/2019|       609.8|                       1058.6801|           303.54|             306.26|      609.8|             1|      119| EA|      10000472|             R3|            1|Aaron Store|           G2|       2|   Não Informado|816-455-8733|          1|                S4|          C|     Domestic|    Western|Van Nuys|     US|8000 Haskell Avenue|     Não Informado|     Não Informado|     Não Informado|   CA|   91406|2018|  3| 21|        1|d955a6c32d75f00a1...|253d4a70cdab91951...|15cbd939a83d34c5e...|\n",
      "|          19/03/2019|   10000472|19/03/2018|         468.23|  21/03/2018|        125808|       P01|      28761|   Ebony Fuji Apples|       4000|    157.76|      220986|           19/03/2019|      636.09|                         1104.32|           334.22|             301.87|      90.87|             7|      119| SE|      10000472|             R3|            1|Aaron Store|           G2|       2|   Não Informado|816-455-8733|          1|                S4|          C|     Domestic|    Western|Van Nuys|     US|8000 Haskell Avenue|     Não Informado|     Não Informado|     Não Informado|   CA|   91406|2018|  3| 21|        1|d955a6c32d75f00a1...|253d4a70cdab91951...|15cbd939a83d34c5e...|\n",
      "|          19/03/2019|   10000472|19/03/2018|         1839.5|  21/03/2018|        125808|       P01|      27550|   Imagine Popsicles|       9000|   1084.61|      220986|           19/03/2019|     2498.94|                         4338.44|          1186.19|            1312.75|    624.735|             4|      119| EA|      10000472|             R3|            1|Aaron Store|           G2|       2|   Não Informado|816-455-8733|          1|                S4|          C|     Domestic|    Western|Van Nuys|     US|8000 Haskell Avenue|     Não Informado|     Não Informado|     Não Informado|   CA|   91406|2018|  3| 21|        1|d955a6c32d75f00a1...|253d4a70cdab91951...|15cbd939a83d34c5e...|\n",
      "|          19/04/2019|   10000472|19/04/2018|         363.99|  21/04/2018|        132059|       P01|      61752|Carlson Cheese Sp...|       1000|    803.86|      225677|           19/04/2019|      439.87|                          803.86|           474.05|             -34.18|     439.87|             1|      119| EA|      10000472|             R3|            1|Aaron Store|           G2|       2|   Não Informado|816-455-8733|          1|                S4|          C|     Domestic|    Western|Van Nuys|     US|8000 Haskell Avenue|     Não Informado|     Não Informado|     Não Informado|   CA|   91406|2018|  4| 21|        2|d955a6c32d75f00a1...|253d4a70cdab91951...|dd5ec7cdb84c44f21...|\n",
      "|          23/04/2019|   10000472|23/04/2018|         919.75|  25/04/2018|        132543|       P01|      27550|   Imagine Popsicles|       2000|   1084.61|      226383|           23/04/2019|     1249.47|                         2169.22|           605.31|             644.16|    624.735|             2|      119| EA|      10000472|             R3|            1|Aaron Store|           G2|       2|   Não Informado|816-455-8733|          1|                S4|          C|     Domestic|    Western|Van Nuys|     US|8000 Haskell Avenue|     Não Informado|     Não Informado|     Não Informado|   CA|   91406|2018|  4| 25|        2|d955a6c32d75f00a1...|253d4a70cdab91951...|81a31b837886fbe4f...|\n",
      "|          23/04/2019|   10000472|23/04/2018|         224.79|  25/04/2018|        132543|       P01|      29312|  Discover Spaghetti|       5000|     44.18|      226383|           23/04/2019|      305.37|                          530.16|           158.73|             146.64|    25.4475|            12|      119| EA|      10000472|             R3|            1|Aaron Store|           G2|       2|   Não Informado|816-455-8733|          1|                S4|          C|     Domestic|    Western|Van Nuys|     US|8000 Haskell Avenue|     Não Informado|     Não Informado|     Não Informado|   CA|   91406|2018|  4| 25|        2|d955a6c32d75f00a1...|253d4a70cdab91951...|81a31b837886fbe4f...|\n",
      "+--------------------+-----------+----------+---------------+------------+--------------+----------+-----------+--------------------+-----------+----------+------------+---------------------+------------+--------------------------------+-----------------+-------------------+-----------+--------------+---------+---+--------------+---------------+-------------+-----------+-------------+--------+----------------+------------+-----------+------------------+-----------+-------------+-----------+--------+-------+-------------------+------------------+------------------+------------------+-----+--------+----+---+---+---------+--------------------+--------------------+--------------------+\n",
      "only showing top 20 rows\n",
      "\n"
     ]
    }
   ],
   "source": [
    "df_stage.show()"
   ]
  },
  {
   "cell_type": "code",
   "execution_count": 41,
   "metadata": {},
   "outputs": [
    {
     "data": {
      "text/plain": [
       "66872"
      ]
     },
     "execution_count": 41,
     "metadata": {},
     "output_type": "execute_result"
    }
   ],
   "source": [
    "df_stage.count()"
   ]
  },
  {
   "cell_type": "code",
   "execution_count": 42,
   "metadata": {},
   "outputs": [],
   "source": [
    "df_stage.createOrReplaceTempView('stage')"
   ]
  },
  {
   "cell_type": "code",
   "execution_count": 47,
   "metadata": {},
   "outputs": [],
   "source": [
    "#Criando a dimensão Localidade\n",
    "dim_localidade = spark.sql('''\n",
    "    SELECT DISTINCT\n",
    "        DW_LOCALIDADE,\n",
    "        address_number,\n",
    "        nvl(city,'Não Informado') as city,\n",
    "        nvl(country,'Não Informado') as country,\n",
    "        nvl(customer_address_1,'Não Informado') as customer_address_1,\n",
    "        nvl(customer_address_2,'Não Informado') as customer_address_2,\n",
    "        nvl(customer_address_3,'Não Informado') as customer_address_3,\n",
    "        nvl(customer_address_4,'Não Informado') as customer_address_4,\n",
    "        nvl(state,'Não Informado') as state,\n",
    "        nvl(zip_code,'Não Informado') as zip_code\n",
    "    FROM stage    \n",
    "''')"
   ]
  },
  {
   "cell_type": "code",
   "execution_count": 48,
   "metadata": {},
   "outputs": [],
   "source": [
    "#Criando a dimensão Tempo\n",
    "dim_tempo = spark.sql('''\n",
    "    SELECT DISTINCT\n",
    "        DW_TEMPO,\n",
    "        invoice_date,\n",
    "        ano,\n",
    "        mes,\n",
    "        dia,\n",
    "        trimestre\n",
    "    FROM stage    \n",
    "''')"
   ]
  },
  {
   "cell_type": "code",
   "execution_count": 49,
   "metadata": {},
   "outputs": [
    {
     "name": "stdout",
     "output_type": "stream",
     "text": [
      "+--------------------+--------------+-------------+-------------+--------------------+--------------------+------------------+------------------+-------------+-------------+\n",
      "|       DW_LOCALIDADE|address_number|         city|      country|  customer_address_1|  customer_address_2|customer_address_3|customer_address_4|        state|     zip_code|\n",
      "+--------------------+--------------+-------------+-------------+--------------------+--------------------+------------------+------------------+-------------+-------------+\n",
      "|d955a6c32d75f00a1...|      10000472|     Van Nuys|           US| 8000 Haskell Avenue|       Não Informado|     Não Informado|     Não Informado|           CA|        91406|\n",
      "|bf22b7769b347a2db...|      10025769|      Redding|           US| 850 Commerce Street|       Não Informado|     Não Informado|     Não Informado|           CA|        96002|\n",
      "|776fe73eabc7bd11b...|      10003882|Não Informado|Não Informado|       Não Informado|       Não Informado|     Não Informado|     Não Informado|Não Informado|Não Informado|\n",
      "|c1e330d3cea32ab85...|      10019469|Não Informado|Não Informado|       Não Informado|       Não Informado|     Não Informado|     Não Informado|Não Informado|Não Informado|\n",
      "|ccf505d879ff7ceee...|      10023235|      Houston|           US| 7600 South Santa Fe|       Não Informado|     Não Informado|     Não Informado|           TX|        77061|\n",
      "|2011161b5eeb6d14b...|      10003795|  Baton Rouge|           US|         PO Box 2484|       Não Informado|     Não Informado|     Não Informado|           LA|        70815|\n",
      "|2dddc45c8e7f3ea07...|      10009631|       Corona|           US|  1477 Davril Circle|       Não Informado|     Não Informado|     Não Informado|           CA|        92880|\n",
      "|d1f542807d19ba11c...|      10019512|Não Informado|Não Informado|       Não Informado|       Não Informado|     Não Informado|     Não Informado|Não Informado|Não Informado|\n",
      "|e73b297e84e9caaf4...|      10020868|Não Informado|Não Informado|       Não Informado|       Não Informado|     Não Informado|     Não Informado|Não Informado|Não Informado|\n",
      "|a84b05855092d2f61...|      10021184|       Aurora|           US|14312 Stenbock Wa...|       Não Informado|     Não Informado|     Não Informado|           OR|        97002|\n",
      "|3925e9a61f46b4845...|      10025298|      Toronto|           CA|1111 Finch Avenue...|            Unit #22|     Não Informado|     Não Informado|           ON|      M3J 2E5|\n",
      "|c2ef774285ea9871e...|      10010882|Não Informado|Não Informado|       Não Informado|       Não Informado|     Não Informado|     Não Informado|Não Informado|Não Informado|\n",
      "|1a099adbb1403f2a6...|      10021459| Olive Branch|           US|     Memphis PDC #19|Attention   Accou...|        PO Box 786|     Não Informado|           MS|   38654-3703|\n",
      "|198919810529a7442...|      10009885|     Winnipeg|           CA|         PO Box 7100|       Não Informado|     Não Informado|     Não Informado|           MB|      R3C 3B3|\n",
      "|08b97a47ed0d446e6...|      10013312|Não Informado|Não Informado|       Não Informado|       Não Informado|     Não Informado|     Não Informado|Não Informado|Não Informado|\n",
      "|15d14b7f352937fb7...|      10017638|      Roanoke|           US|  Advance Auto Parts|Attn  Merchandise...|     P.O. Box 2710|     Não Informado|           VA|        24001|\n",
      "|34abd185ea2550f70...|      10026078|      Bedford|           US|       PO Box 461090|       Não Informado|     Não Informado|     Não Informado|           OH|        44146|\n",
      "|45fe752fd3acf8fd5...|      10026438|Não Informado|Não Informado|       Não Informado|       Não Informado|     Não Informado|     Não Informado|Não Informado|Não Informado|\n",
      "|caa91e5924c10daea...|      10010832|Não Informado|Não Informado|       Não Informado|       Não Informado|     Não Informado|     Não Informado|Não Informado|Não Informado|\n",
      "|bfe357c9274eef276...|      10019514|Não Informado|Não Informado|       Não Informado|       Não Informado|     Não Informado|     Não Informado|Não Informado|Não Informado|\n",
      "+--------------------+--------------+-------------+-------------+--------------------+--------------------+------------------+------------------+-------------+-------------+\n",
      "only showing top 20 rows\n",
      "\n"
     ]
    }
   ],
   "source": [
    "dim_localidade.show()"
   ]
  },
  {
   "cell_type": "code",
   "execution_count": 50,
   "metadata": {},
   "outputs": [],
   "source": [
    "#Criando a dimensão Cliente\n",
    "dim_cliente = spark.sql('''\n",
    "    SELECT DISTINCT\n",
    "        DW_CLIENTES,\n",
    "        address_number,\n",
    "        business_family,\n",
    "        business_unit,\n",
    "        customer,\n",
    "        customerkey,\n",
    "        customer_type,\n",
    "        division,\n",
    "        division_name,\n",
    "        line_of_business,\n",
    "        phone,\n",
    "        region_code,\n",
    "        region_name,\n",
    "        regional_sales_mgr,\n",
    "        search_type\n",
    "    FROM stage    \n",
    "''')"
   ]
  },
  {
   "cell_type": "code",
   "execution_count": 43,
   "metadata": {},
   "outputs": [
    {
     "name": "stdout",
     "output_type": "stream",
     "text": [
      "+---------------------------------+\n",
      "|sum(CAST(sales_amount AS DOUBLE))|\n",
      "+---------------------------------+\n",
      "|             1.8768440561999997E8|\n",
      "+---------------------------------+\n",
      "\n"
     ]
    }
   ],
   "source": [
    "spark.sql(\"select sum(sales_amount) from stage\").show()\n",
    "\n"
   ]
  },
  {
   "cell_type": "code",
   "execution_count": 68,
   "metadata": {},
   "outputs": [],
   "source": [
    "ft_vendas = spark.sql('''\n",
    "    SELECT \n",
    "        DW_CLIENTES,\n",
    "        DW_LOCALIDADE,\n",
    "        DW_TEMPO,\n",
    "        invoice_number,\n",
    "        sum(sales_amount) as vl_total\n",
    "    FROM stage\n",
    "    group by \n",
    "        DW_CLIENTES,\n",
    "        DW_LOCALIDADE,\n",
    "        DW_TEMPO,\n",
    "        invoice_number\n",
    "''')"
   ]
  },
  {
   "cell_type": "code",
   "execution_count": 72,
   "metadata": {},
   "outputs": [
    {
     "data": {
      "text/plain": [
       "25119"
      ]
     },
     "execution_count": 72,
     "metadata": {},
     "output_type": "execute_result"
    }
   ],
   "source": [
    "ft_vendas.count()"
   ]
  },
  {
   "cell_type": "code",
   "execution_count": 73,
   "metadata": {},
   "outputs": [],
   "source": [
    "# função para salvar os dados\n",
    "def salvar_df(df, file):\n",
    "    output = \"/input/desafio_curso/gold/\" + file\n",
    "    erase = \"hdfs dfs -rm \" + output + \"/*\"\n",
    "    rename = \"hdfs dfs -get /datalake/gold/\"+file+\"/part-* /input/desafio_curso/gold/\"+file+\".csv\"\n",
    "    print(rename)\n",
    "\n",
    "    df.coalesce(1).write\\\n",
    "        .format(\"csv\")\\\n",
    "        .option(\"header\", True)\\\n",
    "        .option(\"delimiter\", \";\")\\\n",
    "        .mode(\"overwrite\")\\\n",
    "        .save(\"/datalake/gold/\"+file+\"/\")\n",
    "\n",
    "    os.system(erase)\n",
    "    os.system(rename)"
   ]
  },
  {
   "cell_type": "code",
   "execution_count": 74,
   "metadata": {},
   "outputs": [
    {
     "name": "stdout",
     "output_type": "stream",
     "text": [
      "hdfs dfs -get /datalake/gold/ft_vendas/part-* /input/desafio_curso/gold/ft_vendas.csv\n",
      "hdfs dfs -get /datalake/gold/dim_cliente/part-* /input/desafio_curso/gold/dim_cliente.csv\n",
      "hdfs dfs -get /datalake/gold/dim_tempo/part-* /input/desafio_curso/gold/dim_tempo.csv\n",
      "hdfs dfs -get /datalake/gold/dim_localidade/part-* /input/desafio_curso/gold/dim_localidade.csv\n"
     ]
    }
   ],
   "source": [
    "salvar_df(ft_vendas, 'ft_vendas')\n",
    "salvar_df(dim_cliente, 'dim_cliente')\n",
    "salvar_df(dim_tempo, 'dim_tempo')\n",
    "salvar_df(dim_localidade, 'dim_localidade')"
   ]
  },
  {
   "cell_type": "code",
   "execution_count": null,
   "metadata": {},
   "outputs": [],
   "source": []
  }
 ],
 "metadata": {
  "kernelspec": {
   "display_name": "PySpark",
   "language": "python",
   "name": "pyspark"
  },
  "language_info": {
   "codemirror_mode": {
    "name": "ipython",
    "version": 3
   },
   "file_extension": ".py",
   "mimetype": "text/x-python",
   "name": "python",
   "nbconvert_exporter": "python",
   "pygments_lexer": "ipython3",
   "version": "3.6.10"
  }
 },
 "nbformat": 4,
 "nbformat_minor": 2
}
