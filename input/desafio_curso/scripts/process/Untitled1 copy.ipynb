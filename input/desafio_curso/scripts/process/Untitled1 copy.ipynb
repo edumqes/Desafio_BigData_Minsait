{
 "cells": [
  {
   "cell_type": "code",
   "execution_count": 1,
   "metadata": {},
   "outputs": [],
   "source": [
    "from pyspark.sql import SparkSession, dataframe\n",
    "from pyspark.sql.types import StructType, StructField\n",
    "from pyspark.sql.types import DoubleType, IntegerType, StringType\n",
    "from pyspark.sql import HiveContext\n",
    "from pyspark.sql.functions import *\n",
    "from pyspark.sql import functions as f\n",
    "import os\n",
    "import re"
   ]
  },
  {
   "cell_type": "code",
   "execution_count": 2,
   "metadata": {},
   "outputs": [],
   "source": [
    "spark = SparkSession.builder.master(\"local[*]\")\\\n",
    "    .enableHiveSupport()\\\n",
    "    .getOrCreate()"
   ]
  },
  {
   "cell_type": "code",
   "execution_count": 3,
   "metadata": {},
   "outputs": [],
   "source": [
    "df_regiao = spark.sql(\"select * from desafio_curso.tbl_regiao\")"
   ]
  },
  {
   "cell_type": "code",
   "execution_count": 4,
   "metadata": {},
   "outputs": [
    {
     "name": "stdout",
     "output_type": "stream",
     "text": [
      "+-----------+-------------+--------+\n",
      "|region_code|  region_name| dt_foto|\n",
      "+-----------+-------------+--------+\n",
      "|          0|       Canada|20230624|\n",
      "|          1|      Western|20230624|\n",
      "|          2|     Southern|20230624|\n",
      "|          3|    Northeast|20230624|\n",
      "|          4|      Central|20230624|\n",
      "|          5|International|20230624|\n",
      "+-----------+-------------+--------+\n",
      "\n"
     ]
    }
   ],
   "source": [
    "df_regiao.show()"
   ]
  },
  {
   "cell_type": "code",
   "execution_count": 5,
   "metadata": {},
   "outputs": [],
   "source": [
    "df_divisao = spark.sql(\"select * from desafio_curso.tbl_divisao\")"
   ]
  },
  {
   "cell_type": "code",
   "execution_count": 6,
   "metadata": {},
   "outputs": [
    {
     "name": "stdout",
     "output_type": "stream",
     "text": [
      "+--------+-------------+--------+\n",
      "|division|division_name| dt_foto|\n",
      "+--------+-------------+--------+\n",
      "|       1|International|20230624|\n",
      "|       2|     Domestic|20230624|\n",
      "+--------+-------------+--------+\n",
      "\n"
     ]
    }
   ],
   "source": [
    "df_divisao.show()"
   ]
  },
  {
   "cell_type": "code",
   "execution_count": 7,
   "metadata": {},
   "outputs": [],
   "source": [
    "#Campos com espaço \"Não Informado\"\n",
    "query_clientes = '''\n",
    "select address_number,business_family,business_unit,customer,customerkey,customer_type,division,\n",
    "case when length(trim(line_of_business)) = 0 then 'Não Informado' else line_of_business end as line_of_business,\n",
    "phone,region_code,regional_sales_mgr,search_type,dt_foto\n",
    "from desafio_curso.tbl_clientes'''\n",
    "\n",
    "df_clientes = spark.sql(query_clientes)"
   ]
  },
  {
   "cell_type": "code",
   "execution_count": 8,
   "metadata": {},
   "outputs": [
    {
     "name": "stdout",
     "output_type": "stream",
     "text": [
      "+--------------+---------------+-------------+--------------------+-----------+-------------+--------+----------------+------------+-----------+------------------+-----------+--------+\n",
      "|address_number|business_family|business_unit|            customer|customerkey|customer_type|division|line_of_business|       phone|region_code|regional_sales_mgr|search_type| dt_foto|\n",
      "+--------------+---------------+-------------+--------------------+-----------+-------------+--------+----------------+------------+-----------+------------------+-----------+--------+\n",
      "|      10000000|             R3|            1|    City Supermarket|   10000000|           G2|       2|   Não Informado|816-455-8733|          4|               S16|          C|20230624|\n",
      "|      10000453|             R3|            1|       A Supermarket|   10000453|           G1|       1|   Não Informado|816-455-8733|          5|               S19|          C|20230624|\n",
      "|      10000455|             R3|            1|Caribian Supermarket|   10000455|           G2|       2|   Não Informado|816-455-8733|          1|               S16|          C|20230624|\n",
      "|      10000456|             R1|            1|            A&B Shop|   10000456|           G3|       1|   Não Informado|816-455-8733|          0|                S2|          C|20230624|\n",
      "|      10000457|             O2|            1|            A&G Shop|   10000457|           G1|       1|   Não Informado|816-455-8733|          5|                S1|          C|20230624|\n",
      "|      10000458|             R3|            1|          A&R Market|   10000458|           G2|       2|   Não Informado|816-455-8733|          4|                S9|          C|20230624|\n",
      "|      10000460|             R3|            1|        Meals Market|   10000460|           G2|       2|   Não Informado|816-455-8733|          2|               S16|          C|20230624|\n",
      "|      10000461|             R1|            1|            A1 Store|   10000461|           G3|       1|   Não Informado|816-455-8733|          0|                S2|          C|20230624|\n",
      "|      10000462|             R3|            1|            a2i Shop|   10000462|           G2|       2|   Não Informado|816-455-8733|          4|                S1|          C|20230624|\n",
      "|      10000466|             R3|            1|           A2Z Store|   10000466|           G2|       2|   Não Informado|816-455-8733|          1|               S16|          C|20230624|\n",
      "|      10000469|             R3|            1|   A-2-Z Supermarket|   10000469|           G3|       1|   Não Informado|816-455-8733|          0|                S5|          C|20230624|\n",
      "|      10000471|             R3|            1|         Aadast Shop|   10000471|           G1|       1|              M1|816-455-8733|          5|               S19|          C|20230624|\n",
      "|      10000472|             R3|            1|         Aaron Store|   10000472|           G2|       2|   Não Informado|816-455-8733|          1|                S4|          C|20230624|\n",
      "|      10000473|             R3|            1|   Aaron Supermarket|   10000473|           G2|       2|   Não Informado|816-455-8733|          1|               S16|          C|20230624|\n",
      "|      10000474|             R2|            1|       A-ARVIN Store|   10000474|           G2|       2|   Não Informado|816-455-8733|          4|                S9|          C|20230624|\n",
      "|      10000475|             R3|            1|      AA-Wizard Shop|   10000475|           G2|       2|   Não Informado|816-455-8733|          2|               S16|          C|20230624|\n",
      "|      10000478|             R3|            1|       Abacus Market|   10000478|           G2|       2|   Não Informado|816-455-8733|          2|               S16|          C|20230624|\n",
      "|      10000480|             R2|            1|     Abbotsbury Shop|   10000480|           G2|       2|   Não Informado|816-455-8733|          1|                S5|          C|20230624|\n",
      "|      10000481|             R2|            1|         Abbott Shop|   10000481|           G2|       2|   Não Informado|816-455-8733|          4|                S5|          C|20230624|\n",
      "|      10000486|             R3|            1|       Aberdeen Shop|   10000486|           G2|       1|   Não Informado|816-455-8733|          5|               S14|          C|20230624|\n",
      "+--------------+---------------+-------------+--------------------+-----------+-------------+--------+----------------+------------+-----------+------------------+-----------+--------+\n",
      "only showing top 20 rows\n",
      "\n"
     ]
    }
   ],
   "source": [
    "df_clientes.show()"
   ]
  },
  {
   "cell_type": "code",
   "execution_count": 9,
   "metadata": {},
   "outputs": [],
   "source": [
    "#Campos com espaço \"Não Informado\"\n",
    "query_endereco = '''\n",
    "select address_number,\n",
    "case when length(trim(city)) = 0 then 'Não Informado' else city end as city,country,\n",
    "case when length(trim(customer_address_1)) = 0 then 'Não Informado' else customer_address_1 end as customer_address_1,\n",
    "case when length(trim(customer_address_2)) = 0 then 'Não Informado' else customer_address_2 end as customer_address_2,\n",
    "case when length(trim(customer_address_3)) = 0 then 'Não Informado' else customer_address_3 end as customer_address_3,\n",
    "case when length(trim(customer_address_4)) = 0 then 'Não Informado' else customer_address_4 end as customer_address_4,\n",
    "case when length(trim(state)) = 0 then 'Não Informado' else state end as state,\n",
    "case when length(trim(zip_code)) = 0 then 'Não Informado' else zip_code end as zip_code,dt_foto\n",
    "from desafio_curso.tbl_endereco'''\n",
    "\n",
    "df_endereco = spark.sql(query_endereco)"
   ]
  },
  {
   "cell_type": "code",
   "execution_count": 10,
   "metadata": {},
   "outputs": [
    {
     "name": "stdout",
     "output_type": "stream",
     "text": [
      "+--------------+----------------+-------+--------------------+--------------------+------------------+------------------+-------------+-------------+--------+\n",
      "|address_number|            city|country|  customer_address_1|  customer_address_2|customer_address_3|customer_address_4|        state|     zip_code| dt_foto|\n",
      "+--------------+----------------+-------+--------------------+--------------------+------------------+------------------+-------------+-------------+--------+\n",
      "|      10000000|           Akron|     US|         PO Box 6258|       Não Informado|     Não Informado|     Não Informado|           OH|        44312|20230624|\n",
      "|      10000453|   Não Informado|     UK|       Não Informado|       Não Informado|     Não Informado|     Não Informado|Não Informado|Não Informado|20230624|\n",
      "|      10000455|Huntington Beach|     US|   7392 Count Circle|       Não Informado|     Não Informado|     Não Informado|           CA|        92647|20230624|\n",
      "|      10000456|        Edmonton|     CA|    8151 Wagner Road|       Não Informado|     Não Informado|     Não Informado|           AB|      T6E 4N6|20230624|\n",
      "|      10000458|         Saginaw|     US|          PO Box 840|       Não Informado|     Não Informado|     Não Informado|           MI|        48606|20230624|\n",
      "|      10000460|  Goodlettsville|     US|709 Rivergate Par...|       Não Informado|     Não Informado|     Não Informado|           TN|        37072|20230624|\n",
      "|      10000461|    Boucherville|     CA|     1391 Gay Lussac|       Não Informado|     Não Informado|     Não Informado|           QU|      J4B 7K1|20230624|\n",
      "|      10000462|       Hazelwood|     US|6311 North Lindbe...|       Não Informado|     Não Informado|     Não Informado|           MO|        63042|20230624|\n",
      "|      10000466| North Highlands|     US|3213 Orange Grove...|       Não Informado|     Não Informado|     Não Informado|           CA|        95660|20230624|\n",
      "|      10000469|        Montreal|     CA|Attention:  Accou...|7025 Ontario Stre...|     Não Informado|     Não Informado|           QU|      H1N 2B3|20230624|\n",
      "|      10000471|          Jeddah|     AU|    Al Thalia Street|        PO Box 11605|     Não Informado|     Não Informado|Não Informado|        11443|20230624|\n",
      "|      10000472|        Van Nuys|     US| 8000 Haskell Avenue|       Não Informado|     Não Informado|     Não Informado|           CA|        91406|20230624|\n",
      "|      10000473|  Rancho Cordova|     US|3290 Monier Circl...|       Não Informado|     Não Informado|     Não Informado|           CA|        95742|20230624|\n",
      "|      10000474|      Des Moines|     US|         PO Box 3265|       Não Informado|     Não Informado|     Não Informado|           IA|        50316|20230624|\n",
      "|      10000475|       Charlotte|     US| 5745 N Tryon Street|       Não Informado|     Não Informado|     Não Informado|           NC|        28213|20230624|\n",
      "|      10000478|     Little Rock|     US|8120 E Doyle Spri...|       Não Informado|     Não Informado|     Não Informado|           AR|        72209|20230624|\n",
      "|      10000480|         Phoenix|     US|Attention: Accoun...|        PO Box 21502|     Não Informado|     Não Informado|           AZ|   85036-1502|20230624|\n",
      "|      10000481|         Chicago|     US|            Box 5516|       Não Informado|     Não Informado|     Não Informado|           IL|        60680|20230624|\n",
      "|      10000601|       Creedmoor|     US|  1550 Aereli Avenue|       Não Informado|     Não Informado|     Não Informado|           NC|        27522|20230624|\n",
      "|      10002220|   Prince George|     CA|1594 Nicholson St...|       Não Informado|     Não Informado|     Não Informado|           BC|      V2N 1V6|20230624|\n",
      "+--------------+----------------+-------+--------------------+--------------------+------------------+------------------+-------------+-------------+--------+\n",
      "only showing top 20 rows\n",
      "\n"
     ]
    }
   ],
   "source": [
    "df_endereco.show()"
   ]
  },
  {
   "cell_type": "code",
   "execution_count": 11,
   "metadata": {},
   "outputs": [],
   "source": [
    "query_vendas = '''\n",
    "select actual_delivery_date,customerkey,datekey,\n",
    "nvl(replace(discount_amount,',','.'),0) as discount_amount,\n",
    "invoice_date,invoice_number,\n",
    "nvl(item_class,'Não Informado') as item_class,\n",
    "nvl(item_number,0) as item_number,\n",
    "item,line_number,\n",
    "replace(list_price,',','.') as list_price,\n",
    "order_number,promise_delivery_date,\n",
    "replace(sales_amount,',','.') as sales_amount,\n",
    "replace(sales_amount_based_on_list_price,',','.') as sales_amount_based_on_list_price,\n",
    "replace(sales_cost_amount,',','.') as sales_cost_amount,\n",
    "replace(sales_margin_amount,',','.') as sales_margin_amount,\n",
    "nvl(replace(sales_price,',','.'),0) as sales_price,\n",
    "sales_quantity,sales_rep,u_m\n",
    "from desafio_curso.tbl_vendas'''\n",
    "\n",
    "df_vendas = spark.sql(query_vendas)"
   ]
  },
  {
   "cell_type": "code",
   "execution_count": 12,
   "metadata": {},
   "outputs": [
    {
     "name": "stdout",
     "output_type": "stream",
     "text": [
      "+--------------------+-----------+----------+---------------+------------+--------------+-------------+-----------+--------------------+-----------+----------+------------+---------------------+------------+--------------------------------+-----------------+-------------------+-----------+--------------+---------+---+\n",
      "|actual_delivery_date|customerkey|   datekey|discount_amount|invoice_date|invoice_number|   item_class|item_number|                item|line_number|list_price|order_number|promise_delivery_date|sales_amount|sales_amount_based_on_list_price|sales_cost_amount|sales_margin_amount|sales_price|sales_quantity|sales_rep|u_m|\n",
      "+--------------------+-----------+----------+---------------+------------+--------------+-------------+-----------+--------------------+-----------+----------+------------+---------------------+------------+--------------------------------+-----------------+-------------------+-----------+--------------+---------+---+\n",
      "|          28/04/2019|   10000481|28/04/2018|        -237.91|  30/04/2018|        100012|Não Informado|          0|    Urban Large Eggs|       2000|         0|      200015|           28/04/2019|      237.91|                               0|                0|             237.91|     237.91|             1|      184| EA|\n",
      "|          12/07/2019|   10002220|12/07/2018|         368.79|  14/07/2018|        100233|          P01|      20910|  Moms Sliced Turkey|       1000|    824.96|      200245|           12/07/2019|      456.17|                          824.96|                0|             456.17|     456.17|             1|      127| EA|\n",
      "|          14/10/2019|   10002220|15/10/2018|         109.73|  17/10/2018|        116165|          P01|      38076|Cutting Edge Foot...|       1000|    548.66|      213157|           14/10/2019|      438.93|                          548.66|                0|             438.93|     438.93|             1|      127| EA|\n",
      "|          01/06/2019|   10002489|01/06/2018|        -211.75|  03/06/2018|        100096|Não Informado|          0|            Kiwi Lox|       1000|         0|      200107|           01/06/2019|      211.75|                               0|                0|             211.75|     211.75|             1|      160| EA|\n",
      "|          26/05/2019|   10004516|25/05/2018|       96627.94|  27/05/2018|        103341|          P01|      60776|High Top Sweet Onion|       1000|    408.52|      203785|           26/05/2019|    89248.66|                        185876.6|                0|           89248.66|196.1509011|           455|      124| SE|\n",
      "|          28/05/2019|   10004516|28/05/2018|          -1950|  30/05/2018|        103610|Não Informado|          0|Best Choice Fudge...|       2000|         0|      203785|           28/05/2019|        1950|                               0|                0|               1950|       1950|             1|      124| EA|\n",
      "|          01/09/2019|   10007866|01/09/2018|        371.014|  03/09/2018|        100403|          P01|      20910|  Moms Sliced Turkey|       2000|   795.314|      200436|           01/09/2019|       424.3|                         795.314|                0|              424.3|      424.3|             1|      149| EA|\n",
      "|          16/06/2019|   10009356|16/06/2018|         608.08|  18/06/2018|        105481|          P01|      62550|    Tell Tale Garlic|      29000|       575|      205213|           16/06/2019|      541.92|                            1150|                0|             541.92|     270.96|             2|      103| EA|\n",
      "|          16/06/2019|   10009356|16/06/2018|          424.8|  18/06/2018|        105481|          P01|      60794|    High Top Walnuts|      18000|     51.88|      205213|           16/06/2019|       353.4|                           778.2|                0|              353.4|      23.56|            15|      103| EA|\n",
      "|          16/06/2019|   10009356|16/06/2018|        13492.8|  18/06/2018|        105481|          P01|      36001|Big Time Frozen C...|       9000|    412.03|      205213|           16/06/2019|       11229|                         24721.8|                0|              11229|     187.15|            60|      103| EA|\n",
      "|          16/06/2019|   10009356|16/06/2018|        10481.1|  18/06/2018|        105481|          P01|      38076|Cutting Edge Foot...|      13000|    548.66|      205213|           16/06/2019|        8722|                         19203.1|                0|               8722|      249.2|            35|      103| EA|\n",
      "|          16/06/2019|   10009356|16/06/2018|       404.1465|  18/06/2018|        105481|          P01|      61484|Super Creamy Pean...|      37000|   50.5051|      205213|           16/06/2019|      353.43|                        757.5765|                0|             353.43|     23.562|            15|      103| EA|\n",
      "|          14/09/2019|   10009606|14/09/2018|      1287.3476|  16/09/2018|        100445|          P01|      17801|Better Fancy Cann...|       3000| 1379.7938|      200478|           14/09/2019|     1472.24|                       2759.5876|                0|            1472.24|     736.12|             2|      118| EA|\n",
      "|          14/09/2019|   10009606|14/09/2018|        4764.33|  16/09/2018|        100445|          P01|      48500|Red Spade Low Fat...|       1000|   1134.77|      200478|           14/09/2019|      5448.6|                        10212.93|                0|             5448.6|      605.4|             9|      118| EA|\n",
      "|          04/06/2019|   10009633|08/06/2018|        -526.64|  10/06/2018|        104708|Não Informado|      38631|    Jumbo Large Eggs|       1000|         0|      204575|           04/06/2019|      526.64|                               0|                0|             526.64|     526.64|             1|      127| EA|\n",
      "|          16/08/2019|   10009633|18/08/2018|              0|  20/08/2018|        100379|          P01|      60449|High Top Corn on ...|       1000|    346.53|      200397|           16/08/2019|      346.53|                          346.53|                0|             346.53|     346.53|             1|      127| EA|\n",
      "|          12/11/2019|   10009645|15/11/2018|              0|  17/11/2018|        100684|Não Informado|      61801|Moms Low Fat Bologna|       2000|    258.01|      200733|           12/11/2019|     3096.12|                         3096.12|                0|            3096.12|     258.01|            12|      155| EA|\n",
      "|          12/05/2019|   10009652|12/05/2018|             91|  14/05/2018|        102256|Não Informado|      63113|Landslide Columbi...|       1000|      5.61|      202989|           12/05/2019|      1872.5|                          1963.5|                0|             1872.5|       5.35|           350|      145| EA|\n",
      "|          12/05/2019|   10009652|12/05/2018|           -700|  14/05/2018|        102256|Não Informado|          0|High Top Dried Mu...|       2000|         0|      202989|           12/05/2019|         700|                               0|                0|                700|          2|           350|      145| EA|\n",
      "|          04/11/2019|   10009907|04/11/2018|          786.6|  06/11/2018|        117815|          P01|      38050|Gorilla Chocolate...|       2000|    301.23|      200706|           04/11/2019|      418.32|                         1204.92|                0|             418.32|     104.58|             4|      167| EA|\n",
      "+--------------------+-----------+----------+---------------+------------+--------------+-------------+-----------+--------------------+-----------+----------+------------+---------------------+------------+--------------------------------+-----------------+-------------------+-----------+--------------+---------+---+\n",
      "only showing top 20 rows\n",
      "\n"
     ]
    }
   ],
   "source": [
    "df_vendas.show()"
   ]
  },
  {
   "cell_type": "code",
   "execution_count": 13,
   "metadata": {},
   "outputs": [],
   "source": [
    "df_clientes.createOrReplaceTempView('clientes')\n",
    "df_regiao.createOrReplaceTempView('regiao')\n",
    "df_divisao.createOrReplaceTempView('divisao')\n",
    "df_endereco.createOrReplaceTempView('endereco')\n",
    "df_vendas.createOrReplaceTempView('vendas')"
   ]
  },
  {
   "cell_type": "code",
   "execution_count": 14,
   "metadata": {},
   "outputs": [
    {
     "name": "stdout",
     "output_type": "stream",
     "text": [
      "+------------------+\n",
      "|       total_sales|\n",
      "+------------------+\n",
      "|1.86186769050001E8|\n",
      "+------------------+\n",
      "\n"
     ]
    }
   ],
   "source": [
    "spark.sql(\"select sum(sales_amount) as total_sales from vendas\").show()"
   ]
  },
  {
   "cell_type": "code",
   "execution_count": 26,
   "metadata": {},
   "outputs": [],
   "source": [
    "query_stage = '''\n",
    "select\n",
    "    v.actual_delivery_date,\n",
    "    v.customerkey,\n",
    "    v.datekey,\n",
    "    v.discount_amount,\n",
    "    v.invoice_date,\n",
    "    v.invoice_number,\n",
    "    v.item_class,\n",
    "    v.item_number,\n",
    "    v.item,\n",
    "    v.line_number,\n",
    "    v.list_price,\n",
    "    v.order_number,\n",
    "    v.promise_delivery_date,\n",
    "    v.sales_amount,\n",
    "    v.sales_amount_based_on_list_price,\n",
    "    v.sales_cost_amount,\n",
    "    v.sales_margin_amount,\n",
    "    v.sales_price,\n",
    "    v.sales_quantity,\n",
    "    v.sales_rep,\n",
    "    v.u_m,\n",
    "    c.address_number,\n",
    "    c.business_family,\n",
    "    c.business_unit,\n",
    "    c.customer,\n",
    "    c.customer_type,\n",
    "    c.division,\n",
    "    c.line_of_business,\n",
    "    c.phone,\n",
    "    c.region_code,\n",
    "    c.regional_sales_mgr,\n",
    "    c.search_type,\n",
    "    d.division_name,\n",
    "    r.region_name,\n",
    "    e.city,\n",
    "    e.country,\n",
    "    e.customer_address_1,\n",
    "    e.customer_address_2,\n",
    "    e.customer_address_3,\n",
    "    e.customer_address_4,\n",
    "    e.state,\n",
    "    e.zip_code\n",
    "from vendas v\n",
    "left join clientes c on v.customerkey = c.customerkey\n",
    "left join endereco e on c.address_number = e.address_number\n",
    "inner join regiao r on c.region_code = r.region_code\n",
    "inner join divisao d on c.division = d.division    \n",
    "'''\n",
    "\n",
    "df_stage = spark.sql(query_stage)"
   ]
  },
  {
   "cell_type": "code",
   "execution_count": 27,
   "metadata": {},
   "outputs": [
    {
     "name": "stdout",
     "output_type": "stream",
     "text": [
      "+--------------------+-----------+----------+---------------+------------+--------------+----------+-----------+--------------------+-----------+----------+------------+---------------------+------------+--------------------------------+-----------------+-------------------+-----------+--------------+---------+---+--------------+---------------+-------------+--------------+-------------+--------+----------------+------------+-----------+------------------+-----------+-------------+-----------+-------+-------+--------------------+------------------+------------------+------------------+-----+--------+\n",
      "|actual_delivery_date|customerkey|   datekey|discount_amount|invoice_date|invoice_number|item_class|item_number|                item|line_number|list_price|order_number|promise_delivery_date|sales_amount|sales_amount_based_on_list_price|sales_cost_amount|sales_margin_amount|sales_price|sales_quantity|sales_rep|u_m|address_number|business_family|business_unit|      customer|customer_type|division|line_of_business|       phone|region_code|regional_sales_mgr|search_type|division_name|region_name|   city|country|  customer_address_1|customer_address_2|customer_address_3|customer_address_4|state|zip_code|\n",
      "+--------------------+-----------+----------+---------------+------------+--------------+----------+-----------+--------------------+-----------+----------+------------+---------------------+------------+--------------------------------+-----------------+-------------------+-----------+--------------+---------+---+--------------+---------------+-------------+--------------+-------------+--------+----------------+------------+-----------+------------------+-----------+-------------+-----------+-------+-------+--------------------+------------------+------------------+------------------+-----+--------+\n",
      "|          16/01/2018|   10025298|16/01/2017|         654.42|  19/01/2017|        319453|       P01|      60035|      Golden Waffles|       1000|    731.95|      117028|           16/01/2018|      809.48|                          1463.9|           537.98|              271.5|     404.74|             2|      150| EA|      10025298|             R3|            1|U. Supermarket|           G3|       1|   Não Informado|816-455-8733|          0|               S17|          C|International|     Canada|Toronto|     CA|1111 Finch Avenue...|          Unit #22|     Não Informado|     Não Informado|   ON| M3J 2E5|\n",
      "|          18/04/2018|   10025298|18/04/2017|         654.42|  20/04/2017|        330965|       P01|      60035|      Golden Waffles|       1000|    731.95|      125721|           18/04/2018|      809.48|                          1463.9|           537.98|              271.5|     404.74|             2|      150| EA|      10025298|             R3|            1|U. Supermarket|           G3|       1|   Não Informado|816-455-8733|          0|               S17|          C|International|     Canada|Toronto|     CA|1111 Finch Avenue...|          Unit #22|     Não Informado|     Não Informado|   ON| M3J 2E5|\n",
      "|          15/05/2018|   10025298|15/05/2017|         432.04|  17/05/2017|        301134|       P01|      28401|Ebony Prepared Salad|       9000|    966.44|      102218|           15/05/2018|       534.4|                          966.44|           271.36|             263.04|      534.4|             1|      150| EA|      10025298|             R3|            1|U. Supermarket|           G3|       1|   Não Informado|816-455-8733|          0|               S17|          C|International|     Canada|Toronto|     CA|1111 Finch Avenue...|          Unit #22|     Não Informado|     Não Informado|   ON| M3J 2E5|\n",
      "|          18/07/2018|   10025298|18/07/2017|         654.42|  20/07/2017|        307020|       P01|      60035|      Golden Waffles|       1000|    731.95|      106255|           18/07/2018|      809.48|                          1463.9|           537.98|              271.5|     404.74|             2|      150| EA|      10025298|             R3|            1|U. Supermarket|           G3|       1|   Não Informado|816-455-8733|          0|               S17|          C|International|     Canada|Toronto|     CA|1111 Finch Avenue...|          Unit #22|     Não Informado|     Não Informado|   ON| M3J 2E5|\n",
      "|          29/12/2019|   10025298|29/12/2018|       510.1099|  31/12/2018|        219419|       P01|      37441|Atomic Mint Choco...|       1000| 1254.1899|      316852|           29/12/2019|      744.08|                       1254.1899|           344.28|              399.8|     744.08|             1|      185| EA|      10025298|             R3|            1|U. Supermarket|           G3|       1|   Não Informado|816-455-8733|          0|               S17|          C|International|     Canada|Toronto|     CA|1111 Finch Avenue...|          Unit #22|     Não Informado|     Não Informado|   ON| M3J 2E5|\n",
      "+--------------------+-----------+----------+---------------+------------+--------------+----------+-----------+--------------------+-----------+----------+------------+---------------------+------------+--------------------------------+-----------------+-------------------+-----------+--------------+---------+---+--------------+---------------+-------------+--------------+-------------+--------+----------------+------------+-----------+------------------+-----------+-------------+-----------+-------+-------+--------------------+------------------+------------------+------------------+-----+--------+\n",
      "only showing top 5 rows\n",
      "\n"
     ]
    }
   ],
   "source": [
    "df_stage.show(5)"
   ]
  },
  {
   "cell_type": "code",
   "execution_count": 28,
   "metadata": {},
   "outputs": [],
   "source": [
    "df_stage = (df_stage\n",
    "            .withColumn('Ano',f.year(f.to_timestamp('invoice_date','dd/MM/yyyy')))\n",
    "            .withColumn('Mes',f.month(f.to_timestamp('invoice_date','dd/MM/yyyy')))\n",
    "            .withColumn('Dia',f.dayofmonth(f.to_timestamp('invoice_date','dd/MM/yyyy')))\n",
    "            .withColumn('Trimestre',f.quarter(f.to_timestamp('invoice_date','dd/MM/yyyy')))\n",
    "           )"
   ]
  },
  {
   "cell_type": "code",
   "execution_count": 29,
   "metadata": {},
   "outputs": [
    {
     "name": "stdout",
     "output_type": "stream",
     "text": [
      "+--------------------+-----------+----------+---------------+------------+--------------+----------+-----------+--------------------+-----------+----------+------------+---------------------+------------+--------------------------------+-----------------+-------------------+-----------+--------------+---------+---+--------------+---------------+-------------+--------------------+-------------+--------+----------------+------------+-----------+------------------+-----------+-------------+-----------+--------+-------+--------------------+------------------+------------------+------------------+-----+--------+----+---+---+---------+\n",
      "|actual_delivery_date|customerkey|   datekey|discount_amount|invoice_date|invoice_number|item_class|item_number|                item|line_number|list_price|order_number|promise_delivery_date|sales_amount|sales_amount_based_on_list_price|sales_cost_amount|sales_margin_amount|sales_price|sales_quantity|sales_rep|u_m|address_number|business_family|business_unit|            customer|customer_type|division|line_of_business|       phone|region_code|regional_sales_mgr|search_type|division_name|region_name|    city|country|  customer_address_1|customer_address_2|customer_address_3|customer_address_4|state|zip_code| Ano|Mes|Dia|Trimestre|\n",
      "+--------------------+-----------+----------+---------------+------------+--------------+----------+-----------+--------------------+-----------+----------+------------+---------------------+------------+--------------------------------+-----------------+-------------------+-----------+--------------+---------+---+--------------+---------------+-------------+--------------------+-------------+--------+----------------+------------+-----------+------------------+-----------+-------------+-----------+--------+-------+--------------------+------------------+------------------+------------------+-----+--------+----+---+---+---------+\n",
      "|          16/01/2018|   10025298|16/01/2017|         654.42|  19/01/2017|        319453|       P01|      60035|      Golden Waffles|       1000|    731.95|      117028|           16/01/2018|      809.48|                          1463.9|           537.98|              271.5|     404.74|             2|      150| EA|      10025298|             R3|            1|      U. Supermarket|           G3|       1|   Não Informado|816-455-8733|          0|               S17|          C|International|     Canada| Toronto|     CA|1111 Finch Avenue...|          Unit #22|     Não Informado|     Não Informado|   ON| M3J 2E5|2017|  1| 19|        1|\n",
      "|          18/04/2018|   10025298|18/04/2017|         654.42|  20/04/2017|        330965|       P01|      60035|      Golden Waffles|       1000|    731.95|      125721|           18/04/2018|      809.48|                          1463.9|           537.98|              271.5|     404.74|             2|      150| EA|      10025298|             R3|            1|      U. Supermarket|           G3|       1|   Não Informado|816-455-8733|          0|               S17|          C|International|     Canada| Toronto|     CA|1111 Finch Avenue...|          Unit #22|     Não Informado|     Não Informado|   ON| M3J 2E5|2017|  4| 20|        2|\n",
      "|          15/05/2018|   10025298|15/05/2017|         432.04|  17/05/2017|        301134|       P01|      28401|Ebony Prepared Salad|       9000|    966.44|      102218|           15/05/2018|       534.4|                          966.44|           271.36|             263.04|      534.4|             1|      150| EA|      10025298|             R3|            1|      U. Supermarket|           G3|       1|   Não Informado|816-455-8733|          0|               S17|          C|International|     Canada| Toronto|     CA|1111 Finch Avenue...|          Unit #22|     Não Informado|     Não Informado|   ON| M3J 2E5|2017|  5| 17|        2|\n",
      "|          18/07/2018|   10025298|18/07/2017|         654.42|  20/07/2017|        307020|       P01|      60035|      Golden Waffles|       1000|    731.95|      106255|           18/07/2018|      809.48|                          1463.9|           537.98|              271.5|     404.74|             2|      150| EA|      10025298|             R3|            1|      U. Supermarket|           G3|       1|   Não Informado|816-455-8733|          0|               S17|          C|International|     Canada| Toronto|     CA|1111 Finch Avenue...|          Unit #22|     Não Informado|     Não Informado|   ON| M3J 2E5|2017|  7| 20|        3|\n",
      "|          29/12/2019|   10025298|29/12/2018|       510.1099|  31/12/2018|        219419|       P01|      37441|Atomic Mint Choco...|       1000| 1254.1899|      316852|           29/12/2019|      744.08|                       1254.1899|           344.28|              399.8|     744.08|             1|      185| EA|      10025298|             R3|            1|      U. Supermarket|           G3|       1|   Não Informado|816-455-8733|          0|               S17|          C|International|     Canada| Toronto|     CA|1111 Finch Avenue...|          Unit #22|     Não Informado|     Não Informado|   ON| M3J 2E5|2018| 12| 31|        4|\n",
      "|          29/12/2019|   10025298|29/12/2018|       510.1099|  31/12/2018|        219420|       P01|      37441|Atomic Mint Choco...|       1000| 1254.1899|      316854|           29/12/2019|      744.08|                       1254.1899|           344.28|              399.8|     744.08|             1|      185| EA|      10025298|             R3|            1|      U. Supermarket|           G3|       1|   Não Informado|816-455-8733|          0|               S17|          C|International|     Canada| Toronto|     CA|1111 Finch Avenue...|          Unit #22|     Não Informado|     Não Informado|   ON| M3J 2E5|2018| 12| 31|        4|\n",
      "|          29/12/2019|   10025298|29/12/2018|       510.1099|  31/12/2018|        219423|       P01|      37441|Atomic Mint Choco...|       1000| 1254.1899|      316857|           29/12/2019|      744.08|                       1254.1899|           344.28|              399.8|     744.08|             1|      185| EA|      10025298|             R3|            1|      U. Supermarket|           G3|       1|   Não Informado|816-455-8733|          0|               S17|          C|International|     Canada| Toronto|     CA|1111 Finch Avenue...|          Unit #22|     Não Informado|     Não Informado|   ON| M3J 2E5|2018| 12| 31|        4|\n",
      "|          29/12/2019|   10025298|29/12/2018|       510.1099|  31/12/2018|        219424|       P01|      37441|Atomic Mint Choco...|       1000| 1254.1899|      316858|           29/12/2019|      744.08|                       1254.1899|           344.28|              399.8|     744.08|             1|      185| EA|      10025298|             R3|            1|      U. Supermarket|           G3|       1|   Não Informado|816-455-8733|          0|               S17|          C|International|     Canada| Toronto|     CA|1111 Finch Avenue...|          Unit #22|     Não Informado|     Não Informado|   ON| M3J 2E5|2018| 12| 31|        4|\n",
      "|          29/12/2019|   10025298|29/12/2018|       510.1099|  31/12/2018|        219425|       P01|      37441|Atomic Mint Choco...|       1000| 1254.1899|      316861|           29/12/2019|      744.08|                       1254.1899|           344.28|              399.8|     744.08|             1|      185| EA|      10025298|             R3|            1|      U. Supermarket|           G3|       1|   Não Informado|816-455-8733|          0|               S17|          C|International|     Canada| Toronto|     CA|1111 Finch Avenue...|          Unit #22|     Não Informado|     Não Informado|   ON| M3J 2E5|2018| 12| 31|        4|\n",
      "|          29/12/2019|   10025298|29/12/2018|       510.1099|  31/12/2018|        219426|       P01|      37441|Atomic Mint Choco...|       1000| 1254.1899|      316862|           29/12/2019|      744.08|                       1254.1899|           344.28|              399.8|     744.08|             1|      185| EA|      10025298|             R3|            1|      U. Supermarket|           G3|       1|   Não Informado|816-455-8733|          0|               S17|          C|International|     Canada| Toronto|     CA|1111 Finch Avenue...|          Unit #22|     Não Informado|     Não Informado|   ON| M3J 2E5|2018| 12| 31|        4|\n",
      "|          05/01/2020|   10025298|05/01/2019|       510.1099|  07/01/2019|        220082|       P01|      37441|Atomic Mint Choco...|       1000| 1254.1899|      317238|           05/01/2020|      744.08|                       1254.1899|           344.28|              399.8|     744.08|             1|      185| EA|      10025298|             R3|            1|      U. Supermarket|           G3|       1|   Não Informado|816-455-8733|          0|               S17|          C|International|     Canada| Toronto|     CA|1111 Finch Avenue...|          Unit #22|     Não Informado|     Não Informado|   ON| M3J 2E5|2019|  1|  7|        1|\n",
      "|          05/01/2020|   10025298|05/01/2019|       510.1099|  07/01/2019|        220091|       P01|      37441|Atomic Mint Choco...|       1000| 1254.1899|      317295|           05/01/2020|      744.08|                       1254.1899|           344.28|              399.8|     744.08|             1|      185| EA|      10025298|             R3|            1|      U. Supermarket|           G3|       1|   Não Informado|816-455-8733|          0|               S17|          C|International|     Canada| Toronto|     CA|1111 Finch Avenue...|          Unit #22|     Não Informado|     Não Informado|   ON| M3J 2E5|2019|  1|  7|        1|\n",
      "|          15/01/2020|   10025298|15/01/2019|       510.1099|  17/01/2019|        221032|       P01|      37441|Atomic Mint Choco...|       1000| 1254.1899|      317842|           15/01/2020|      744.08|                       1254.1899|           344.28|              399.8|     744.08|             1|      185| EA|      10025298|             R3|            1|      U. Supermarket|           G3|       1|   Não Informado|816-455-8733|          0|               S17|          C|International|     Canada| Toronto|     CA|1111 Finch Avenue...|          Unit #22|     Não Informado|     Não Informado|   ON| M3J 2E5|2019|  1| 17|        1|\n",
      "|          15/01/2020|   10025298|15/01/2019|       510.1099|  17/01/2019|        221033|       P01|      37441|Atomic Mint Choco...|       1000| 1254.1899|      317844|           15/01/2020|      744.08|                       1254.1899|           344.28|              399.8|     744.08|             1|      185| EA|      10025298|             R3|            1|      U. Supermarket|           G3|       1|   Não Informado|816-455-8733|          0|               S17|          C|International|     Canada| Toronto|     CA|1111 Finch Avenue...|          Unit #22|     Não Informado|     Não Informado|   ON| M3J 2E5|2019|  1| 17|        1|\n",
      "|          21/01/2020|   10025298|21/01/2019|          257.9|  23/01/2019|        221569|       P01|      30500|Blue Label Canned...|       1000|    634.11|      318233|           21/01/2020|      376.21|                          634.11|           272.06|             104.15|     376.21|             1|      185| EA|      10025298|             R3|            1|      U. Supermarket|           G3|       1|   Não Informado|816-455-8733|          0|               S17|          C|International|     Canada| Toronto|     CA|1111 Finch Avenue...|          Unit #22|     Não Informado|     Não Informado|   ON| M3J 2E5|2019|  1| 23|        1|\n",
      "|          09/02/2020|   10025298|09/02/2019|       510.1099|  11/02/2019|        223206|       P01|      37441|Atomic Mint Choco...|       1000| 1254.1899|      319392|           09/02/2020|      744.08|                       1254.1899|           344.28|              399.8|     744.08|             1|      185| EA|      10025298|             R3|            1|      U. Supermarket|           G3|       1|   Não Informado|816-455-8733|          0|               S17|          C|International|     Canada| Toronto|     CA|1111 Finch Avenue...|          Unit #22|     Não Informado|     Não Informado|   ON| M3J 2E5|2019|  2| 11|        1|\n",
      "|          09/02/2020|   10025298|09/02/2019|       510.1099|  11/02/2019|        223207|       P01|      37441|Atomic Mint Choco...|       1000| 1254.1899|      319393|           09/02/2020|      744.08|                       1254.1899|           344.28|              399.8|     744.08|             1|      185| EA|      10025298|             R3|            1|      U. Supermarket|           G3|       1|   Não Informado|816-455-8733|          0|               S17|          C|International|     Canada| Toronto|     CA|1111 Finch Avenue...|          Unit #22|     Não Informado|     Não Informado|   ON| M3J 2E5|2019|  2| 11|        1|\n",
      "|          29/04/2019|   10009885|29/04/2018|         179.45|  01/05/2018|        100907|       P01|      36001|Big Time Frozen C...|      19000|    412.03|      201917|           29/04/2019|      232.58|                          412.03|            84.79|             147.79|     232.58|             1|      152| EA|      10009885|             R3|            1|Degolyer Supermarket|           G3|       1|   Não Informado|816-455-8733|          0|                S5|          C|International|     Canada|Winnipeg|     CA|         PO Box 7100|     Não Informado|     Não Informado|     Não Informado|   MB| R3C 3B3|2018|  5|  1|        2|\n",
      "|          29/04/2019|   10009885|29/04/2018|         718.57|  01/05/2018|        100907|       P01|      20910|  Moms Sliced Turkey|       3000|    824.96|      201917|           29/04/2019|      931.35|                         1649.92|              508|             423.35|    465.675|             2|      152| EA|      10009885|             R3|            1|Degolyer Supermarket|           G3|       1|   Não Informado|816-455-8733|          0|                S5|          C|International|     Canada|Winnipeg|     CA|         PO Box 7100|     Não Informado|     Não Informado|     Não Informado|   MB| R3C 3B3|2018|  5|  1|        2|\n",
      "|          29/04/2019|   10009885|29/04/2018|         214.52|  01/05/2018|        100907|       P01|      29394|    Pearl Chardonnay|      11000|    123.14|      201917|           29/04/2019|      278.04|                          492.56|           108.59|             169.45|      69.51|             4|      152| EA|      10009885|             R3|            1|Degolyer Supermarket|           G3|       1|   Não Informado|816-455-8733|          0|                S5|          C|International|     Canada|Winnipeg|     CA|         PO Box 7100|     Não Informado|     Não Informado|     Não Informado|   MB| R3C 3B3|2018|  5|  1|        2|\n",
      "+--------------------+-----------+----------+---------------+------------+--------------+----------+-----------+--------------------+-----------+----------+------------+---------------------+------------+--------------------------------+-----------------+-------------------+-----------+--------------+---------+---+--------------+---------------+-------------+--------------------+-------------+--------+----------------+------------+-----------+------------------+-----------+-------------+-----------+--------+-------+--------------------+------------------+------------------+------------------+-----+--------+----+---+---+---------+\n",
      "only showing top 20 rows\n",
      "\n"
     ]
    }
   ],
   "source": [
    "df_stage.show()"
   ]
  },
  {
   "cell_type": "code",
   "execution_count": 21,
   "metadata": {},
   "outputs": [
    {
     "ename": "AnalysisException",
     "evalue": "'Table or view not found: df_stage; line 1 pos 14'",
     "output_type": "error",
     "traceback": [
      "\u001b[0;31m---------------------------------------------------------------------------\u001b[0m",
      "\u001b[0;31mPy4JJavaError\u001b[0m                             Traceback (most recent call last)",
      "\u001b[0;32m/opt/spark/python/pyspark/sql/utils.py\u001b[0m in \u001b[0;36mdeco\u001b[0;34m(*a, **kw)\u001b[0m\n\u001b[1;32m     62\u001b[0m         \u001b[0;32mtry\u001b[0m\u001b[0;34m:\u001b[0m\u001b[0;34m\u001b[0m\u001b[0;34m\u001b[0m\u001b[0m\n\u001b[0;32m---> 63\u001b[0;31m             \u001b[0;32mreturn\u001b[0m \u001b[0mf\u001b[0m\u001b[0;34m(\u001b[0m\u001b[0;34m*\u001b[0m\u001b[0ma\u001b[0m\u001b[0;34m,\u001b[0m \u001b[0;34m**\u001b[0m\u001b[0mkw\u001b[0m\u001b[0;34m)\u001b[0m\u001b[0;34m\u001b[0m\u001b[0;34m\u001b[0m\u001b[0m\n\u001b[0m\u001b[1;32m     64\u001b[0m         \u001b[0;32mexcept\u001b[0m \u001b[0mpy4j\u001b[0m\u001b[0;34m.\u001b[0m\u001b[0mprotocol\u001b[0m\u001b[0;34m.\u001b[0m\u001b[0mPy4JJavaError\u001b[0m \u001b[0;32mas\u001b[0m \u001b[0me\u001b[0m\u001b[0;34m:\u001b[0m\u001b[0;34m\u001b[0m\u001b[0;34m\u001b[0m\u001b[0m\n",
      "\u001b[0;32m/opt/spark/python/lib/py4j-0.10.7-src.zip/py4j/protocol.py\u001b[0m in \u001b[0;36mget_return_value\u001b[0;34m(answer, gateway_client, target_id, name)\u001b[0m\n\u001b[1;32m    327\u001b[0m                     \u001b[0;34m\"An error occurred while calling {0}{1}{2}.\\n\"\u001b[0m\u001b[0;34m.\u001b[0m\u001b[0;34m\u001b[0m\u001b[0;34m\u001b[0m\u001b[0m\n\u001b[0;32m--> 328\u001b[0;31m                     format(target_id, \".\", name), value)\n\u001b[0m\u001b[1;32m    329\u001b[0m             \u001b[0;32melse\u001b[0m\u001b[0;34m:\u001b[0m\u001b[0;34m\u001b[0m\u001b[0;34m\u001b[0m\u001b[0m\n",
      "\u001b[0;31mPy4JJavaError\u001b[0m: An error occurred while calling o38.sql.\n: org.apache.spark.sql.AnalysisException: Table or view not found: df_stage; line 1 pos 14\n\tat org.apache.spark.sql.catalyst.analysis.package$AnalysisErrorAt.failAnalysis(package.scala:47)\n\tat org.apache.spark.sql.catalyst.analysis.Analyzer$ResolveRelations$.org$apache$spark$sql$catalyst$analysis$Analyzer$ResolveRelations$$lookupTableFromCatalog(Analyzer.scala:733)\n\tat org.apache.spark.sql.catalyst.analysis.Analyzer$ResolveRelations$.resolveRelation(Analyzer.scala:685)\n\tat org.apache.spark.sql.catalyst.analysis.Analyzer$ResolveRelations$$anonfun$apply$8.applyOrElse(Analyzer.scala:715)\n\tat org.apache.spark.sql.catalyst.analysis.Analyzer$ResolveRelations$$anonfun$apply$8.applyOrElse(Analyzer.scala:708)\n\tat org.apache.spark.sql.catalyst.plans.logical.AnalysisHelper$$anonfun$resolveOperatorsUp$1$$anonfun$apply$1.apply(AnalysisHelper.scala:90)\n\tat org.apache.spark.sql.catalyst.plans.logical.AnalysisHelper$$anonfun$resolveOperatorsUp$1$$anonfun$apply$1.apply(AnalysisHelper.scala:90)\n\tat org.apache.spark.sql.catalyst.trees.CurrentOrigin$.withOrigin(TreeNode.scala:70)\n\tat org.apache.spark.sql.catalyst.plans.logical.AnalysisHelper$$anonfun$resolveOperatorsUp$1.apply(AnalysisHelper.scala:89)\n\tat org.apache.spark.sql.catalyst.plans.logical.AnalysisHelper$$anonfun$resolveOperatorsUp$1.apply(AnalysisHelper.scala:86)\n\tat org.apache.spark.sql.catalyst.plans.logical.AnalysisHelper$.allowInvokingTransformsInAnalyzer(AnalysisHelper.scala:194)\n\tat org.apache.spark.sql.catalyst.plans.logical.AnalysisHelper$class.resolveOperatorsUp(AnalysisHelper.scala:86)\n\tat org.apache.spark.sql.catalyst.plans.logical.LogicalPlan.resolveOperatorsUp(LogicalPlan.scala:29)\n\tat org.apache.spark.sql.catalyst.plans.logical.AnalysisHelper$$anonfun$resolveOperatorsUp$1$$anonfun$1.apply(AnalysisHelper.scala:87)\n\tat org.apache.spark.sql.catalyst.plans.logical.AnalysisHelper$$anonfun$resolveOperatorsUp$1$$anonfun$1.apply(AnalysisHelper.scala:87)\n\tat org.apache.spark.sql.catalyst.trees.TreeNode$$anonfun$4.apply(TreeNode.scala:326)\n\tat org.apache.spark.sql.catalyst.trees.TreeNode.mapProductIterator(TreeNode.scala:187)\n\tat org.apache.spark.sql.catalyst.trees.TreeNode.mapChildren(TreeNode.scala:324)\n\tat org.apache.spark.sql.catalyst.plans.logical.AnalysisHelper$$anonfun$resolveOperatorsUp$1.apply(AnalysisHelper.scala:87)\n\tat org.apache.spark.sql.catalyst.plans.logical.AnalysisHelper$$anonfun$resolveOperatorsUp$1.apply(AnalysisHelper.scala:86)\n\tat org.apache.spark.sql.catalyst.plans.logical.AnalysisHelper$.allowInvokingTransformsInAnalyzer(AnalysisHelper.scala:194)\n\tat org.apache.spark.sql.catalyst.plans.logical.AnalysisHelper$class.resolveOperatorsUp(AnalysisHelper.scala:86)\n\tat org.apache.spark.sql.catalyst.plans.logical.LogicalPlan.resolveOperatorsUp(LogicalPlan.scala:29)\n\tat org.apache.spark.sql.catalyst.plans.logical.AnalysisHelper$$anonfun$resolveOperatorsUp$1$$anonfun$1.apply(AnalysisHelper.scala:87)\n\tat org.apache.spark.sql.catalyst.plans.logical.AnalysisHelper$$anonfun$resolveOperatorsUp$1$$anonfun$1.apply(AnalysisHelper.scala:87)\n\tat org.apache.spark.sql.catalyst.trees.TreeNode$$anonfun$4.apply(TreeNode.scala:326)\n\tat org.apache.spark.sql.catalyst.trees.TreeNode.mapProductIterator(TreeNode.scala:187)\n\tat org.apache.spark.sql.catalyst.trees.TreeNode.mapChildren(TreeNode.scala:324)\n\tat org.apache.spark.sql.catalyst.plans.logical.AnalysisHelper$$anonfun$resolveOperatorsUp$1.apply(AnalysisHelper.scala:87)\n\tat org.apache.spark.sql.catalyst.plans.logical.AnalysisHelper$$anonfun$resolveOperatorsUp$1.apply(AnalysisHelper.scala:86)\n\tat org.apache.spark.sql.catalyst.plans.logical.AnalysisHelper$.allowInvokingTransformsInAnalyzer(AnalysisHelper.scala:194)\n\tat org.apache.spark.sql.catalyst.plans.logical.AnalysisHelper$class.resolveOperatorsUp(AnalysisHelper.scala:86)\n\tat org.apache.spark.sql.catalyst.plans.logical.LogicalPlan.resolveOperatorsUp(LogicalPlan.scala:29)\n\tat org.apache.spark.sql.catalyst.analysis.Analyzer$ResolveRelations$.apply(Analyzer.scala:708)\n\tat org.apache.spark.sql.catalyst.analysis.Analyzer$ResolveRelations$.apply(Analyzer.scala:654)\n\tat org.apache.spark.sql.catalyst.rules.RuleExecutor$$anonfun$execute$1$$anonfun$apply$1.apply(RuleExecutor.scala:87)\n\tat org.apache.spark.sql.catalyst.rules.RuleExecutor$$anonfun$execute$1$$anonfun$apply$1.apply(RuleExecutor.scala:84)\n\tat scala.collection.LinearSeqOptimized$class.foldLeft(LinearSeqOptimized.scala:124)\n\tat scala.collection.immutable.List.foldLeft(List.scala:84)\n\tat org.apache.spark.sql.catalyst.rules.RuleExecutor$$anonfun$execute$1.apply(RuleExecutor.scala:84)\n\tat org.apache.spark.sql.catalyst.rules.RuleExecutor$$anonfun$execute$1.apply(RuleExecutor.scala:76)\n\tat scala.collection.immutable.List.foreach(List.scala:392)\n\tat org.apache.spark.sql.catalyst.rules.RuleExecutor.execute(RuleExecutor.scala:76)\n\tat org.apache.spark.sql.catalyst.analysis.Analyzer.org$apache$spark$sql$catalyst$analysis$Analyzer$$executeSameContext(Analyzer.scala:127)\n\tat org.apache.spark.sql.catalyst.analysis.Analyzer.execute(Analyzer.scala:121)\n\tat org.apache.spark.sql.catalyst.analysis.Analyzer$$anonfun$executeAndCheck$1.apply(Analyzer.scala:106)\n\tat org.apache.spark.sql.catalyst.analysis.Analyzer$$anonfun$executeAndCheck$1.apply(Analyzer.scala:105)\n\tat org.apache.spark.sql.catalyst.plans.logical.AnalysisHelper$.markInAnalyzer(AnalysisHelper.scala:201)\n\tat org.apache.spark.sql.catalyst.analysis.Analyzer.executeAndCheck(Analyzer.scala:105)\n\tat org.apache.spark.sql.execution.QueryExecution.analyzed$lzycompute(QueryExecution.scala:57)\n\tat org.apache.spark.sql.execution.QueryExecution.analyzed(QueryExecution.scala:55)\n\tat org.apache.spark.sql.execution.QueryExecution.assertAnalyzed(QueryExecution.scala:47)\n\tat org.apache.spark.sql.Dataset$.ofRows(Dataset.scala:78)\n\tat org.apache.spark.sql.SparkSession.sql(SparkSession.scala:642)\n\tat sun.reflect.NativeMethodAccessorImpl.invoke0(Native Method)\n\tat sun.reflect.NativeMethodAccessorImpl.invoke(NativeMethodAccessorImpl.java:62)\n\tat sun.reflect.DelegatingMethodAccessorImpl.invoke(DelegatingMethodAccessorImpl.java:43)\n\tat java.lang.reflect.Method.invoke(Method.java:498)\n\tat py4j.reflection.MethodInvoker.invoke(MethodInvoker.java:244)\n\tat py4j.reflection.ReflectionEngine.invoke(ReflectionEngine.java:357)\n\tat py4j.Gateway.invoke(Gateway.java:282)\n\tat py4j.commands.AbstractCommand.invokeMethod(AbstractCommand.java:132)\n\tat py4j.commands.CallCommand.execute(CallCommand.java:79)\n\tat py4j.GatewayConnection.run(GatewayConnection.java:238)\n\tat java.lang.Thread.run(Thread.java:748)\nCaused by: org.apache.spark.sql.catalyst.analysis.NoSuchTableException: Table or view 'df_stage' not found in database 'default';\n\tat org.apache.spark.sql.hive.client.HiveClient$$anonfun$getTable$1.apply(HiveClient.scala:81)\n\tat org.apache.spark.sql.hive.client.HiveClient$$anonfun$getTable$1.apply(HiveClient.scala:81)\n\tat scala.Option.getOrElse(Option.scala:121)\n\tat org.apache.spark.sql.hive.client.HiveClient$class.getTable(HiveClient.scala:81)\n\tat org.apache.spark.sql.hive.client.HiveClientImpl.getTable(HiveClientImpl.scala:83)\n\tat org.apache.spark.sql.hive.HiveExternalCatalog.getRawTable(HiveExternalCatalog.scala:118)\n\tat org.apache.spark.sql.hive.HiveExternalCatalog$$anonfun$getTable$1.apply(HiveExternalCatalog.scala:700)\n\tat org.apache.spark.sql.hive.HiveExternalCatalog$$anonfun$getTable$1.apply(HiveExternalCatalog.scala:700)\n\tat org.apache.spark.sql.hive.HiveExternalCatalog.withClient(HiveExternalCatalog.scala:97)\n\tat org.apache.spark.sql.hive.HiveExternalCatalog.getTable(HiveExternalCatalog.scala:699)\n\tat org.apache.spark.sql.catalyst.catalog.ExternalCatalogWithListener.getTable(ExternalCatalogWithListener.scala:138)\n\tat org.apache.spark.sql.catalyst.catalog.SessionCatalog.lookupRelation(SessionCatalog.scala:706)\n\tat org.apache.spark.sql.catalyst.analysis.Analyzer$ResolveRelations$.org$apache$spark$sql$catalyst$analysis$Analyzer$ResolveRelations$$lookupTableFromCatalog(Analyzer.scala:730)\n\t... 63 more\n",
      "\nDuring handling of the above exception, another exception occurred:\n",
      "\u001b[0;31mAnalysisException\u001b[0m                         Traceback (most recent call last)",
      "\u001b[0;32m<ipython-input-21-9727ae85b3dd>\u001b[0m in \u001b[0;36m<module>\u001b[0;34m()\u001b[0m\n\u001b[1;32m      1\u001b[0m \u001b[0mquery_customerkey\u001b[0m \u001b[0;34m=\u001b[0m \u001b[0;34m'''select * from df_stage where customerkey = 10000481'''\u001b[0m\u001b[0;34m\u001b[0m\u001b[0;34m\u001b[0m\u001b[0m\n\u001b[0;32m----> 2\u001b[0;31m \u001b[0mspark\u001b[0m\u001b[0;34m.\u001b[0m\u001b[0msql\u001b[0m\u001b[0;34m(\u001b[0m\u001b[0mquery_customerkey\u001b[0m\u001b[0;34m)\u001b[0m\u001b[0;34m.\u001b[0m\u001b[0mshow\u001b[0m\u001b[0;34m(\u001b[0m\u001b[0;34m)\u001b[0m\u001b[0;34m\u001b[0m\u001b[0;34m\u001b[0m\u001b[0m\n\u001b[0m",
      "\u001b[0;32m/opt/spark/python/pyspark/sql/session.py\u001b[0m in \u001b[0;36msql\u001b[0;34m(self, sqlQuery)\u001b[0m\n\u001b[1;32m    765\u001b[0m         \u001b[0;34m[\u001b[0m\u001b[0mRow\u001b[0m\u001b[0;34m(\u001b[0m\u001b[0mf1\u001b[0m\u001b[0;34m=\u001b[0m\u001b[0;36m1\u001b[0m\u001b[0;34m,\u001b[0m \u001b[0mf2\u001b[0m\u001b[0;34m=\u001b[0m\u001b[0;34mu'row1'\u001b[0m\u001b[0;34m)\u001b[0m\u001b[0;34m,\u001b[0m \u001b[0mRow\u001b[0m\u001b[0;34m(\u001b[0m\u001b[0mf1\u001b[0m\u001b[0;34m=\u001b[0m\u001b[0;36m2\u001b[0m\u001b[0;34m,\u001b[0m \u001b[0mf2\u001b[0m\u001b[0;34m=\u001b[0m\u001b[0;34mu'row2'\u001b[0m\u001b[0;34m)\u001b[0m\u001b[0;34m,\u001b[0m \u001b[0mRow\u001b[0m\u001b[0;34m(\u001b[0m\u001b[0mf1\u001b[0m\u001b[0;34m=\u001b[0m\u001b[0;36m3\u001b[0m\u001b[0;34m,\u001b[0m \u001b[0mf2\u001b[0m\u001b[0;34m=\u001b[0m\u001b[0;34mu'row3'\u001b[0m\u001b[0;34m)\u001b[0m\u001b[0;34m]\u001b[0m\u001b[0;34m\u001b[0m\u001b[0;34m\u001b[0m\u001b[0m\n\u001b[1;32m    766\u001b[0m         \"\"\"\n\u001b[0;32m--> 767\u001b[0;31m         \u001b[0;32mreturn\u001b[0m \u001b[0mDataFrame\u001b[0m\u001b[0;34m(\u001b[0m\u001b[0mself\u001b[0m\u001b[0;34m.\u001b[0m\u001b[0m_jsparkSession\u001b[0m\u001b[0;34m.\u001b[0m\u001b[0msql\u001b[0m\u001b[0;34m(\u001b[0m\u001b[0msqlQuery\u001b[0m\u001b[0;34m)\u001b[0m\u001b[0;34m,\u001b[0m \u001b[0mself\u001b[0m\u001b[0;34m.\u001b[0m\u001b[0m_wrapped\u001b[0m\u001b[0;34m)\u001b[0m\u001b[0;34m\u001b[0m\u001b[0;34m\u001b[0m\u001b[0m\n\u001b[0m\u001b[1;32m    768\u001b[0m \u001b[0;34m\u001b[0m\u001b[0m\n\u001b[1;32m    769\u001b[0m     \u001b[0;34m@\u001b[0m\u001b[0msince\u001b[0m\u001b[0;34m(\u001b[0m\u001b[0;36m2.0\u001b[0m\u001b[0;34m)\u001b[0m\u001b[0;34m\u001b[0m\u001b[0;34m\u001b[0m\u001b[0m\n",
      "\u001b[0;32m/opt/spark/python/lib/py4j-0.10.7-src.zip/py4j/java_gateway.py\u001b[0m in \u001b[0;36m__call__\u001b[0;34m(self, *args)\u001b[0m\n\u001b[1;32m   1255\u001b[0m         \u001b[0manswer\u001b[0m \u001b[0;34m=\u001b[0m \u001b[0mself\u001b[0m\u001b[0;34m.\u001b[0m\u001b[0mgateway_client\u001b[0m\u001b[0;34m.\u001b[0m\u001b[0msend_command\u001b[0m\u001b[0;34m(\u001b[0m\u001b[0mcommand\u001b[0m\u001b[0;34m)\u001b[0m\u001b[0;34m\u001b[0m\u001b[0;34m\u001b[0m\u001b[0m\n\u001b[1;32m   1256\u001b[0m         return_value = get_return_value(\n\u001b[0;32m-> 1257\u001b[0;31m             answer, self.gateway_client, self.target_id, self.name)\n\u001b[0m\u001b[1;32m   1258\u001b[0m \u001b[0;34m\u001b[0m\u001b[0m\n\u001b[1;32m   1259\u001b[0m         \u001b[0;32mfor\u001b[0m \u001b[0mtemp_arg\u001b[0m \u001b[0;32min\u001b[0m \u001b[0mtemp_args\u001b[0m\u001b[0;34m:\u001b[0m\u001b[0;34m\u001b[0m\u001b[0;34m\u001b[0m\u001b[0m\n",
      "\u001b[0;32m/opt/spark/python/pyspark/sql/utils.py\u001b[0m in \u001b[0;36mdeco\u001b[0;34m(*a, **kw)\u001b[0m\n\u001b[1;32m     67\u001b[0m                                              e.java_exception.getStackTrace()))\n\u001b[1;32m     68\u001b[0m             \u001b[0;32mif\u001b[0m \u001b[0ms\u001b[0m\u001b[0;34m.\u001b[0m\u001b[0mstartswith\u001b[0m\u001b[0;34m(\u001b[0m\u001b[0;34m'org.apache.spark.sql.AnalysisException: '\u001b[0m\u001b[0;34m)\u001b[0m\u001b[0;34m:\u001b[0m\u001b[0;34m\u001b[0m\u001b[0;34m\u001b[0m\u001b[0m\n\u001b[0;32m---> 69\u001b[0;31m                 \u001b[0;32mraise\u001b[0m \u001b[0mAnalysisException\u001b[0m\u001b[0;34m(\u001b[0m\u001b[0ms\u001b[0m\u001b[0;34m.\u001b[0m\u001b[0msplit\u001b[0m\u001b[0;34m(\u001b[0m\u001b[0;34m': '\u001b[0m\u001b[0;34m,\u001b[0m \u001b[0;36m1\u001b[0m\u001b[0;34m)\u001b[0m\u001b[0;34m[\u001b[0m\u001b[0;36m1\u001b[0m\u001b[0;34m]\u001b[0m\u001b[0;34m,\u001b[0m \u001b[0mstackTrace\u001b[0m\u001b[0;34m)\u001b[0m\u001b[0;34m\u001b[0m\u001b[0;34m\u001b[0m\u001b[0m\n\u001b[0m\u001b[1;32m     70\u001b[0m             \u001b[0;32mif\u001b[0m \u001b[0ms\u001b[0m\u001b[0;34m.\u001b[0m\u001b[0mstartswith\u001b[0m\u001b[0;34m(\u001b[0m\u001b[0;34m'org.apache.spark.sql.catalyst.analysis'\u001b[0m\u001b[0;34m)\u001b[0m\u001b[0;34m:\u001b[0m\u001b[0;34m\u001b[0m\u001b[0;34m\u001b[0m\u001b[0m\n\u001b[1;32m     71\u001b[0m                 \u001b[0;32mraise\u001b[0m \u001b[0mAnalysisException\u001b[0m\u001b[0;34m(\u001b[0m\u001b[0ms\u001b[0m\u001b[0;34m.\u001b[0m\u001b[0msplit\u001b[0m\u001b[0;34m(\u001b[0m\u001b[0;34m': '\u001b[0m\u001b[0;34m,\u001b[0m \u001b[0;36m1\u001b[0m\u001b[0;34m)\u001b[0m\u001b[0;34m[\u001b[0m\u001b[0;36m1\u001b[0m\u001b[0;34m]\u001b[0m\u001b[0;34m,\u001b[0m \u001b[0mstackTrace\u001b[0m\u001b[0;34m)\u001b[0m\u001b[0;34m\u001b[0m\u001b[0;34m\u001b[0m\u001b[0m\n",
      "\u001b[0;31mAnalysisException\u001b[0m: 'Table or view not found: df_stage; line 1 pos 14'"
     ]
    }
   ],
   "source": [
    "query_customerkey = '''select * from df_stage where customerkey = 10000481'''\n",
    "spark.sql(query_customerkey).show()"
   ]
  },
  {
   "cell_type": "code",
   "execution_count": 31,
   "metadata": {},
   "outputs": [
    {
     "name": "stdout",
     "output_type": "stream",
     "text": [
      "+--------------------+-----------+----------+---------------+------------+--------------+----------+-----------+--------------------+-----------+----------+------------+---------------------+------------+--------------------------------+-----------------+-------------------+-----------+--------------+---------+---+--------------+---------------+-------------+-----------+-------------+--------+----------------+------------+-----------+------------------+-----------+-------------+-----------+-------+-------+------------------+------------------+------------------+------------------+-----+--------+\n",
      "|actual_delivery_date|customerkey|   datekey|discount_amount|invoice_date|invoice_number|item_class|item_number|                item|line_number|list_price|order_number|promise_delivery_date|sales_amount|sales_amount_based_on_list_price|sales_cost_amount|sales_margin_amount|sales_price|sales_quantity|sales_rep|u_m|address_number|business_family|business_unit|   customer|customer_type|division|line_of_business|       phone|region_code|regional_sales_mgr|search_type|division_name|region_name|   city|country|customer_address_1|customer_address_2|customer_address_3|customer_address_4|state|zip_code|\n",
      "+--------------------+-----------+----------+---------------+------------+--------------+----------+-----------+--------------------+-----------+----------+------------+---------------------+------------+--------------------------------+-----------------+-------------------+-----------+--------------+---------+---+--------------+---------------+-------------+-----------+-------------+--------+----------------+------------+-----------+------------------+-----------+-------------+-----------+-------+-------+------------------+------------------+------------------+------------------+-----+--------+\n",
      "|          28/04/2019|   10000481|28/04/2018|        -237,91|  30/04/2018|        100012|      null|       null|    Urban Large Eggs|       2000|         0|      200015|           28/04/2019|      237,91|                               0|                0|             237,91|     237,91|             1|      184| EA|      10000481|             R2|            1|Abbott Shop|           G2|       2|   Nao Informado|816-455-8733|          4|                S5|          C|     Domestic|    Central|Chicago|     US|          Box 5516|     Nao Informado|     Nao Informado|     Nao Informado|   IL|   60680|\n",
      "|          03/01/2019|   10000481|03/01/2018|         1681,2|  05/01/2018|        330000|       P01|      30283| Even Better 2% Milk|       1000|    1321,7|      124466|           03/01/2019|      2283,9|                          3965,1|          1634,19|             649,71|      761,3|             3|      134| EA|      10000481|             R2|            1|Abbott Shop|           G2|       2|   Nao Informado|816-455-8733|          4|                S5|          C|     Domestic|    Central|Chicago|     US|          Box 5516|     Nao Informado|     Nao Informado|     Nao Informado|   IL|   60680|\n",
      "|          12/01/2019|   10000481|12/01/2018|         389,88|  14/01/2018|        120000|       P01|      33445|Best Choice Corn ...|       1000|    974,69|      217302|           12/01/2019|      584,81|                          974,69|           353,52|             231,29|     584,81|             1|      184| EA|      10000481|             R2|            1|Abbott Shop|           G2|       2|   Nao Informado|816-455-8733|          4|                S5|          C|     Domestic|    Central|Chicago|     US|          Box 5516|     Nao Informado|     Nao Informado|     Nao Informado|   IL|   60680|\n",
      "|          15/01/2019|   10000481|15/01/2018|         389,88|  17/01/2018|        120327|       P01|      33445|Best Choice Corn ...|       1000|    974,69|      217557|           15/01/2019|      584,81|                          974,69|           353,52|             231,29|     584,81|             1|      184| EA|      10000481|             R2|            1|Abbott Shop|           G2|       2|   Nao Informado|816-455-8733|          4|                S5|          C|     Domestic|    Central|Chicago|     US|          Box 5516|     Nao Informado|     Nao Informado|     Nao Informado|   IL|   60680|\n",
      "|          09/02/2018|   10000481|09/02/2017|         1681,2|  12/02/2017|        321678|       P01|      30283| Even Better 2% Milk|       1000|    1321,7|      118278|           09/02/2018|      2283,9|                          3965,1|          1634,19|             649,71|      761,3|             3|      134| EA|      10000481|             R2|            1|Abbott Shop|           G2|       2|   Nao Informado|816-455-8733|          4|                S5|          C|     Domestic|    Central|Chicago|     US|          Box 5516|     Nao Informado|     Nao Informado|     Nao Informado|   IL|   60680|\n",
      "|          18/02/2019|   10000481|18/02/2018|            230|  20/02/2018|        123276|       P01|      62550|    Tell Tale Garlic|       1000|       575|      219301|           18/02/2019|         345|                             575|            249,3|               95,7|        345|             1|      184| EA|      10000481|             R2|            1|Abbott Shop|           G2|       2|   Nao Informado|816-455-8733|          4|                S5|          C|     Domestic|    Central|Chicago|     US|          Box 5516|     Nao Informado|     Nao Informado|     Nao Informado|   IL|   60680|\n",
      "|          05/03/2019|   10000481|05/03/2018|         389,88|  07/03/2018|        124630|       P01|      33445|Best Choice Corn ...|       1000|    974,69|      220342|           05/03/2019|      584,81|                          974,69|           353,52|             231,29|     584,81|             1|      184| EA|      10000481|             R2|            1|Abbott Shop|           G2|       2|   Nao Informado|816-455-8733|          4|                S5|          C|     Domestic|    Central|Chicago|     US|          Box 5516|     Nao Informado|     Nao Informado|     Nao Informado|   IL|   60680|\n",
      "|          15/03/2019|   10000481|15/03/2018|          596,3|  17/03/2018|        125373|       P01|      30289|Even Better Straw...|       1000|   1490,76|      220870|           15/03/2019|      894,46|                         1490,76|           546,44|             348,02|     894,46|             1|      184| EA|      10000481|             R2|            1|Abbott Shop|           G2|       2|   Nao Informado|816-455-8733|          4|                S5|          C|     Domestic|    Central|Chicago|     US|          Box 5516|     Nao Informado|     Nao Informado|     Nao Informado|   IL|   60680|\n",
      "|          25/03/2019|   10000481|25/03/2018|          596,3|  27/03/2018|        126426|       P01|      30289|Even Better Straw...|       1000|   1490,76|      221496|           25/03/2019|      894,46|                         1490,76|           546,44|             348,02|     894,46|             1|      184| EA|      10000481|             R2|            1|Abbott Shop|           G2|       2|   Nao Informado|816-455-8733|          4|                S5|          C|     Domestic|    Central|Chicago|     US|          Box 5516|     Nao Informado|     Nao Informado|     Nao Informado|   IL|   60680|\n",
      "|          12/04/2019|   10000481|12/04/2018|         389,88|  14/04/2018|        131512|       P01|      33445|Best Choice Corn ...|       1000|    974,69|      225961|           12/04/2019|      584,81|                          974,69|           353,52|             231,29|     584,81|             1|      184| EA|      10000481|             R2|            1|Abbott Shop|           G2|       2|   Nao Informado|816-455-8733|          4|                S5|          C|     Domestic|    Central|Chicago|     US|          Box 5516|     Nao Informado|     Nao Informado|     Nao Informado|   IL|   60680|\n",
      "|          15/04/2019|   10000481|15/04/2018|         389,88|  17/04/2018|        131839|       P01|      33445|Best Choice Corn ...|       1000|    974,69|      226158|           15/04/2019|      584,81|                          974,69|           353,52|             231,29|     584,81|             1|      184| EA|      10000481|             R2|            1|Abbott Shop|           G2|       2|   Nao Informado|816-455-8733|          4|                S5|          C|     Domestic|    Central|Chicago|     US|          Box 5516|     Nao Informado|     Nao Informado|     Nao Informado|   IL|   60680|\n",
      "|          29/04/2019|   10000481|29/04/2018|         431,51|  01/05/2018|        100951|       P01|      30279|Even Better Sharp...|       1000|   1078,77|      201935|           29/04/2019|      647,26|                         1078,77|           444,35|             202,91|     647,26|             1|      184| EA|      10000481|             R2|            1|Abbott Shop|           G2|       2|   Nao Informado|816-455-8733|          4|                S5|          C|     Domestic|    Central|Chicago|     US|          Box 5516|     Nao Informado|     Nao Informado|     Nao Informado|   IL|   60680|\n",
      "|          07/05/2019|   10000481|07/05/2018|         389,88|  09/05/2018|        101857|       P01|      33445|Best Choice Corn ...|       1000|    974,69|      202626|           07/05/2019|      584,81|                          974,69|           349,57|             235,24|     584,81|             1|      184| EA|      10000481|             R2|            1|Abbott Shop|           G2|       2|   Nao Informado|816-455-8733|          4|                S5|          C|     Domestic|    Central|Chicago|     US|          Box 5516|     Nao Informado|     Nao Informado|     Nao Informado|   IL|   60680|\n",
      "|          10/05/2019|   10000481|10/05/2018|         389,88|  12/05/2018|        101987|       P01|      33445|Best Choice Corn ...|       1000|    974,69|      202723|           10/05/2019|      584,81|                          974,69|           349,57|             235,24|     584,81|             1|      184| EA|      10000481|             R2|            1|Abbott Shop|           G2|       2|   Nao Informado|816-455-8733|          4|                S5|          C|     Domestic|    Central|Chicago|     US|          Box 5516|     Nao Informado|     Nao Informado|     Nao Informado|   IL|   60680|\n",
      "|          15/06/2018|   10000481|15/06/2017|         246,84|  17/06/2017|        304282|       P01|      31683|Golden Frozen Pep...|       1000|    291,09|      104254|           15/06/2018|      335,34|                          582,18|           156,24|              179,1|     167,67|             2|      134| EA|      10000481|             R2|            1|Abbott Shop|           G2|       2|   Nao Informado|816-455-8733|          4|                S5|          C|     Domestic|    Central|Chicago|     US|          Box 5516|     Nao Informado|     Nao Informado|     Nao Informado|   IL|   60680|\n",
      "|          12/07/2019|   10000481|12/07/2018|         389,88|  14/07/2018|        107575|       P01|      33445|Best Choice Corn ...|       1000|    974,69|      206568|           12/07/2019|      584,81|                          974,69|           353,52|             231,29|     584,81|             1|      184| EA|      10000481|             R2|            1|Abbott Shop|           G2|       2|   Nao Informado|816-455-8733|          4|                S5|          C|     Domestic|    Central|Chicago|     US|          Box 5516|     Nao Informado|     Nao Informado|     Nao Informado|   IL|   60680|\n",
      "|          15/07/2019|   10000481|15/07/2018|         389,88|  17/07/2018|        107908|       P01|      33445|Best Choice Corn ...|       1000|    974,69|      206876|           15/07/2019|      584,81|                          974,69|           353,52|             231,29|     584,81|             1|      184| EA|      10000481|             R2|            1|Abbott Shop|           G2|       2|   Nao Informado|816-455-8733|          4|                S5|          C|     Domestic|    Central|Chicago|     US|          Box 5516|     Nao Informado|     Nao Informado|     Nao Informado|   IL|   60680|\n",
      "|          11/08/2018|   10000481|11/08/2017|         1681,2|  13/08/2017|        309287|       P01|      30283| Even Better 2% Milk|       1000|    1321,7|      107706|           11/08/2018|      2283,9|                          3965,1|          1634,19|             649,71|      761,3|             3|      134| EA|      10000481|             R2|            1|Abbott Shop|           G2|       2|   Nao Informado|816-455-8733|          4|                S5|          C|     Domestic|    Central|Chicago|     US|          Box 5516|     Nao Informado|     Nao Informado|     Nao Informado|   IL|   60680|\n",
      "|          18/08/2019|   10000481|18/08/2018|            230|  20/08/2018|        110915|       P01|      62550|    Tell Tale Garlic|       1000|       575|      208879|           18/08/2019|         345|                             575|            249,3|               95,7|        345|             1|      184| EA|      10000481|             R2|            1|Abbott Shop|           G2|       2|   Nao Informado|816-455-8733|          4|                S5|          C|     Domestic|    Central|Chicago|     US|          Box 5516|     Nao Informado|     Nao Informado|     Nao Informado|   IL|   60680|\n",
      "|          03/09/2019|   10000481|03/09/2018|         389,88|  05/09/2018|        112297|       P01|      33445|Best Choice Corn ...|       1000|    974,69|      210122|           03/09/2019|      584,81|                          974,69|           353,52|             231,29|     584,81|             1|      184| EA|      10000481|             R2|            1|Abbott Shop|           G2|       2|   Nao Informado|816-455-8733|          4|                S5|          C|     Domestic|    Central|Chicago|     US|          Box 5516|     Nao Informado|     Nao Informado|     Nao Informado|   IL|   60680|\n",
      "+--------------------+-----------+----------+---------------+------------+--------------+----------+-----------+--------------------+-----------+----------+------------+---------------------+------------+--------------------------------+-----------------+-------------------+-----------+--------------+---------+---+--------------+---------------+-------------+-----------+-------------+--------+----------------+------------+-----------+------------------+-----------+-------------+-----------+-------+-------+------------------+------------------+------------------+------------------+-----+--------+\n",
      "only showing top 20 rows\n",
      "\n"
     ]
    }
   ],
   "source": [
    "df_stage.createOrReplaceTempView('stage')\n",
    "query_customerkey = '''select * from stage where customerkey = 10000481'''\n",
    "spark.sql(query_customerkey).show()"
   ]
  },
  {
   "cell_type": "code",
   "execution_count": 32,
   "metadata": {},
   "outputs": [
    {
     "data": {
      "text/plain": [
       "66872"
      ]
     },
     "execution_count": 32,
     "metadata": {},
     "output_type": "execute_result"
    }
   ],
   "source": [
    "df_stage.count()"
   ]
  },
  {
   "cell_type": "code",
   "execution_count": null,
   "metadata": {},
   "outputs": [],
   "source": []
  }
 ],
 "metadata": {
  "kernelspec": {
   "display_name": "PySpark",
   "language": "python",
   "name": "pyspark"
  },
  "language_info": {
   "codemirror_mode": {
    "name": "ipython",
    "version": 3
   },
   "file_extension": ".py",
   "mimetype": "text/x-python",
   "name": "python",
   "nbconvert_exporter": "python",
   "pygments_lexer": "ipython3",
   "version": "3.6.10"
  }
 },
 "nbformat": 4,
 "nbformat_minor": 2
}
